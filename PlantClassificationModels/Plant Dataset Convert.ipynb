{
 "cells": [
  {
   "cell_type": "code",
   "execution_count": 47,
   "metadata": {},
   "outputs": [],
   "source": [
    "import os  \n",
    "import pandas as pd \n",
    "import json "
   ]
  },
  {
   "cell_type": "code",
   "execution_count": 48,
   "metadata": {},
   "outputs": [],
   "source": [
    "raw_nlp_file = open(\"Raw NLP Dataset.txt\", \"r\", encoding=\"utf-8\")\n",
    "raw_lines = raw_nlp_file.readlines()\n",
    "raw_nlp_file.close()"
   ]
  },
  {
   "cell_type": "code",
   "execution_count": 49,
   "metadata": {},
   "outputs": [
    {
     "data": {
      "text/plain": [
       "['Jackfruit',\n",
       " 'Jackfruit, also known as Artocarpus Heterophyllus by scientific name, is a tropical fruit that grows in Asia, Africa, and South America.',\n",
       " 'Scientific name:',\n",
       " 'Artocarpus Heterophyllus',\n",
       " 'Benefits:',\n",
       " 'Jackfruit is known to be the largest edible fruit in the world. With a subtle sweetness, the popularity of jackfruit is partly because of its stringy flesh, the texture of which makes it a great meat substitute in vegan versions of classic recipes like pulled pork or chicken. Although, a popular meat substitute, the flesh of the jackfruit doesn’t contribute the same amount of protein, so for this reason it’s a good idea to combine it with other plant-based sources of protein such as beans, pulses, nuts and seeds. Jackfruit has relatively low calorie count and is richer in micronutrients than many other popular fruits. Its seeds and flesh contain more calcium and iron than other tropical fruits and is a useful source of B vitamins including B1, B3, B6 and folate.',\n",
       " 'What can it cure?:',\n",
       " 'Jackfruit is a useful source of a wide variety of phytonutrients, these plant compounds are protective and may help prevent the development of certain chronic diseases, such as diabetes. They include vitamin C, carotenoids as well as polyphenols and flavonoids. It also contains heart-friendly nutrients including potassium and fibre. It’s this gut-friendly fibre content along-with vitamin C and beta-carotene that suggests jackfruit may be useful for supporting immune health and potentially reduce the risk of viral infection. Moreover, a compound found in the seed of the fruit appears to activate key immune cells, called neutrophils. These immune cells are one of our first lines of defense, they boost the response of other immune cells and also initiate and mediate the inflammatory process. Phytonutrients in the leaves of the plant also appear to improve glucose tolerance in both those with normal blood sugar control as well as people with diabetes. Its nutrients can be used to lower the risk of some health issues such as constipation, ulcers, diabetes, high blood pressure, skin problems, and cancer.',\n",
       " 'How to use it?:',\n",
       " \"Jackfruit isn't easy to peel because of its sticky sap. To keep it from gumming up your knife and hands, rub them with cooking oil before you slice open your fruit. Once you do, it will take time to separate the fleshy bulbs you can eat from tough strips of membrane, which you can't. You'll then have to remove the seeds from each bulb. You may prefer to eat jackfruit before it's fully ripe and the rind starts to smell like spoiled onions. If you cut it into chunks and boil them in salted water until they're tender, you can easily slice the meaty flesh from the rind. You can roast or boil the seeds like chestnuts. On the other hand, jackfruit’s seeds and flesh may be boiled and eaten in dishes like curries; when fully ripened the fruit can be enjoyed raw and used in both sweet and savoury dishes.\",\n",
       " 'Sources:',\n",
       " 'Sambong',\n",
       " 'Sambong, also known as Blumea balsamifera is a popular herbal plant in the Philippines.',\n",
       " 'Scientific name:',\n",
       " 'Blumea balsamifera',\n",
       " 'Benefits:',\n",
       " 'Sambong is a very popular Philippine herbal flowering plant used as medicine. Sambong displays a variety of biological activities such as antitumor, hepatoprotective, antioxidant, antimicrobial, anti-inflammatory, anti-melanogenic, platelet aggregation, wound healing, and anti-obesity properties.',\n",
       " 'What can it cure?:',\n",
       " 'Sambong is used as medicine to treat wounds and cuts, rheumatism, anti-diarrhea, anti-spams, colds and coughs. It is also used for infected wounds, respiratory infections and stomach pains. Sambong is very popular among people with kidney problems because of its diuretic qualities. It can be taken as an early afternoon tea to maintain a healthy urinary tract. It is used as herbal treatment for kidney stones, cuts or wounds, rheumatism, diarrhea, spasms, colds, coughs, and hypertension',\n",
       " 'How to use it?:',\n",
       " 'Sambong leaves are generally boiled and taken as a tea. You may gather fresh leaves and chop them into small pieces then wash under running water thoroughly. Toss the chopped leaves into a liter of boiling water. Steep the leaves for 10 minutes then let the tea cool. The tea may be taken four times a day. Sambong may also be used to relieve arthritis colds and cough. To prepare, crush or grind the leaves into a paste and apply directly into the affected part. In addition, to relieve fever, crushed Sambong leaves must be soaked in cold water, wrung out and placed between sheets of clean cloth. The cloth plaster may then be placed on the patient’s forehead or armpit to lower the body temperature and prevent convulsions.',\n",
       " 'Sources:',\n",
       " 'Lemon',\n",
       " 'Lemon, scientifically known as Citrus limon, is a bright yellow citrus fruit.',\n",
       " 'Scientific name:',\n",
       " 'Citrus limon',\n",
       " 'Benefits:',\n",
       " 'Lemons are a good source of vitamin C. A single lemon provides about 31 mg of vitamin C, which is 51% of the reference daily intake. The fiber and plant compounds in lemons could also significantly lower some risk factors for heart disease. It contains plant compounds such as hesperidin and diosmin which has lower cholesterol. Also, the plant compounds in lemon extracts may help prevent or reduce weight gain. Not only are lemons a very healthy fruit, but they also have a distinct, pleasant taste and smell that make them a great addition to foods and drinks.',\n",
       " 'What can it cure?:',\n",
       " 'Lemon is reach in vitamin C which reduces the risk of heart disease and stroke. The plant compounds it contains can also significantly lower the risk factors for heart disease. It contains citric acid which may help prevent kidney stones by increasing urine volume and increasing urine pH. Moreover, lemon contains some iron which can aid preventing anemia. Specifically, it improves the absorption of the iron which then prevents anemia. The gut absorbs iron from meat, chicken, and fish (known as heme iron) very easily, while iron from plant sources (non-heme iron) not as easily. However, this absorption can be improved by consuming vitamin C and citric acid. Because lemons contain both vitamin C and citric acid, they may protect against anemia by ensuring that you absorb as much iron as possible from your diet.',\n",
       " 'How to use it?:',\n",
       " 'Lemon leaves, when boiled to make teas, may have antispasmodic and sedative properties. Lemon leaves are not consumed and are best suited for cooking applications such as grilling or sautéing. They can be used fresh for their aromatics, which is their singular culinary attribute. Lemon leaves can be wrapped around seafood and meats and can be roasted, steamed, or grilled. They can also be used to flavor kabobs, used in curries, and blanched and used to infuse tea. Lemon leaves can be used as a garnish for desserts such as lemon cakes and they can also be used as a mold to make chocolate leaves. Lemon leaves pair well with fresh seafood, oysters, fresh anchovy fillets, pork, chicken, mint, parsley, basil, garlic, olive oil, vinegar, and chopped pistachios. They will keep for 1-2 days when stored fresh in the refrigerator. They can also be dried for extended use.',\n",
       " 'Sources:',\n",
       " 'Jasmine',\n",
       " 'Jasmine which is also known as Jasminum is a plant with a flower used in making medicine.',\n",
       " 'Scientific name:',\n",
       " 'Jasminum',\n",
       " 'Benefits:',\n",
       " 'Jasmine leaves can be used to brew jasmine tea which has health benefits. It includes aiding calm, improving mental clarity, and boosting the immune system. Tea scented with jasmine has been shown to have a calming, sedative effect that can help you to relax. Green, white, and black teas also contain l-theanine, a unique compound present in tea that can help to reduce anxiety and stress. Jasmine tea is loaded with powerful plant-based compounds known as polyphenols. These act as antioxidants in your body and protect your cells against free radical damage. Studies have linked free radical damage to heart disease and several types of cancer.',\n",
       " 'What can it cure?:',\n",
       " 'Jasmine has been used for liver disease (hepatitis), liver pain due to cirrhosis, and abdominal pain due to severe diarrhea (dysentery). It is also used to cause relaxation (as a sedative), to heighten sexual desire (as an aphrodisiac), and in cancer treatment. Jasmine leaves can be used to create jasmine tea which has health benefits. Jasmine tea is high in polyphenols, which may help protect against heart disease. Jasmine tea is packed with powerful polyphenols, which may lower your risk of Alzheimer’s and Parkinson’s disease. In particular, jasmine tea made from green tea is high in EGCG, which may suppress inflammation and neutralize free radical damage — two key factors associated with the progression of Alzheimer’s and Parkinson’s disease.',\n",
       " 'How to use it?:',\n",
       " 'Three grams of jasmine tea leaves and 500ml of water are the only ingredients required to prepare a jasmine tea. The jasmine tea must be brewed in 500ml of hot water at 80ºC. If steeping loose leaf tea, a teapot or mug with a strainer must be used. Let it wait for 40 seconds and strain the tea leaves until it cools down for another 2 minutes.',\n",
       " 'Sources:',\n",
       " 'Mango',\n",
       " 'Mango, also known as Mangifera indica, is a fruit native to India and Southeast Asia.',\n",
       " 'Scientific name:',\n",
       " 'Mangifera indica',\n",
       " 'Benefits:',\n",
       " 'Mango is not only delicious but also boasts an impressive nutritional profile. One of its most impressive nutrient facts is that just 1 cup (165 grams) of fresh mango provides nearly 67% of the DV for vitamin C. This water-soluble vitamin aids your immune system, helps your body absorb iron, and promotes cell growth and repair. Mango is also a good source of the minerals copper and folate, which are especially important nutrients during pregnancy, as they support healthy fetal growth and development. Moreover, it has few calories for the volume of food it provides. Mango is a good source of immune-boosting nutrients such as Vitamin A which is essential for a healthy immune system preventing risk of infection. Its leaves also provide health benefits.',\n",
       " 'What can it cure?:',\n",
       " 'Mango leaves have antibacterial properties that help treat bacterial skin infections such as staph Infections and skin burns. The mango leaves contain essential properties and nutrients that help to heal the burns and scalds on the skin. The leaves are rich in nutrients like Vitamin C and A, which boosts the production of collagen that is important for healthy hair. It gives a shine to your dull hair. Furthermore, mango leaves are excellent in balancing blood sugar levels in diabetic patients. Those leaves contain tannins called anthocyanidins that may help in treating early diabetes. It also contains 3beta taraxerol and ethyl acetate, which help treat hyperglycemia (increased blood sugar levels). Its hypotensive properties also aid in reducing blood pressure.',\n",
       " 'How to use it?:',\n",
       " 'Mango fruit can be prepared for eating easily. On the other hand, mango leaves can be used to prepare tea. Take fresh and bright mango leaves or even baby leaves around 10 to 15 and wash them. Chop the leaves and cut them into small pieces. Add those pieces to the tea infuser with some honey. Add boiled water to the infuser and cover it. Let the leaves steep for around 10 minutes.Finally, remove the infuser and pour the water into a cup or glass.',\n",
       " 'Sources:',\n",
       " 'Mint',\n",
       " 'Mint, scientifically known as Mentha, is a herb that offers numerous benefits. Mint is a perennial plant that belongs to the Lamiaceae family. It is widely cultivated for its aromatic leaves, which contain essential oils that give mint its distinctive flavor and scent. The scientific name Mentha encompasses various species and hybrids, including peppermint (Mentha x piperita) and spearmint (Mentha spicata).',\n",
       " 'Scientific name:',\n",
       " 'Mentha',\n",
       " 'Benefits:',\n",
       " 'Mint has long been recognized for its beneficial properties. It aids digestion by promoting the production of digestive enzymes, which can help to alleviate indigestion, bloating, and stomach discomfort. Mint is also known for its ability to freshen breath and provide a cooling sensation. The menthol compound found in mint acts as a natural decongestant, making it useful for relieving nasal congestion and soothing sore throats. Furthermore, mint possesses antimicrobial properties, which can help to combat oral bacteria and reduce the risk of dental issues.',\n",
       " 'What can it cure?:',\n",
       " 'Mint has been used traditionally to treat various ailments. It is commonly used to alleviate indigestion, nausea, headaches, and colds. Mint tea is often consumed to relieve digestive discomfort and promote healthy digestion. The menthol in mint can provide temporary relief from headaches and migraines when applied topically or inhaled. Mint can also help to soothe coughs and clear congestion when used in the form of steam inhalation or added to throat lozenges.',\n",
       " 'How to use it?:',\n",
       " 'Mint can be used in various forms to enjoy its benefits. The leaves can be steeped in hot water to make a refreshing tea. Simply add a handful of fresh mint leaves to a cup of boiling water, let it steep for a few minutes, and strain before drinking. Mint leaves can also be added to salads, smoothies, or used as a garnish for dishes. Additionally, mint essential oil can be diluted and applied topically for headaches or used in aromatherapy diffusers for its calming and invigorating scent.',\n",
       " 'Sources:',\n",
       " 'Ampalaya',\n",
       " 'Ampalaya, also known as Bitter Melon or Bitter Gourd, has the scientific name Momordica charantia.',\n",
       " 'Scientific name:',\n",
       " 'Momordica charantia.',\n",
       " 'Benefits:',\n",
       " \"Ampalaya is a tropical vine that belongs to the Cucurbitaceae family. It offers several health benefits. It is rich in vitamins, minerals, and antioxidants, making it a valuable addition to a balanced diet. Ampalaya has been traditionally used for its ability to regulate blood sugar levels, making it beneficial for individuals with diabetes. It contains compounds that help improve insulin sensitivity and reduce glucose production in the liver. Additionally, Ampalaya has immune-boosting properties due to its high vitamin C content, which can help strengthen the body's defenses against infections.\",\n",
       " 'What can it cure?:',\n",
       " \"Ampalaya is commonly used to manage diabetes, high cholesterol levels, and aid in weight loss. The plant's bioactive compounds have been shown to have anti-diabetic properties by improving glucose metabolism and insulin signaling. Ampalaya also has cholesterol-lowering effects, as it can help reduce the absorption of dietary cholesterol. Furthermore, the high fiber content in Ampalaya can promote satiety and aid in weight management.\",\n",
       " 'How to use it?:',\n",
       " 'Ampalaya can be prepared in various ways to enjoy its benefits. The fruit can be cooked in stir-fries, soups, or curries to add a bitter and distinctive flavor to dishes. It can also be juiced, either alone or combined with other fruits and vegetables, to create a nutritious and refreshing beverage. Some people prefer to consume Ampalaya in the form of dietary supplements, which are available as capsules or powders. However, it is important to consult with a healthcare professional before starting any new supplement regimen.',\n",
       " 'Sources:',\n",
       " 'Malunggay',\n",
       " 'Malunggay, scientifically called Moringa oleifera, is a plant that is rich in nutrients and known to boost energy levels.',\n",
       " 'Scientific name:',\n",
       " 'Moringa oleifera',\n",
       " 'Benefits:',\n",
       " 'Malunggay is a fast-growing tree that is native to tropical and subtropical regions. It is often referred to as the \"Miracle Tree\" due to its exceptional nutritional profile. Malunggay leaves are highly nutritious, containing vitamins A, C, and E, iron, calcium, and protein. It is also rich in antioxidants, including flavonoids and phenolic compounds, which help protect the body against oxidative stress and inflammation. Malunggay has been traditionally used in various cultures for its medicinal properties and is believed to boost energy levels and support overall health and well-being.',\n",
       " 'What can it cure?:',\n",
       " 'Malunggay is used to combat malnutrition, reduce inflammation, and manage certain health conditions such as diabetes. The high nutritional content of Malunggay makes it a valuable supplement for individuals who are at risk of nutrient deficiencies or suffer from malnutrition. The anti-inflammatory properties of Malunggay may help reduce inflammation in the body and alleviate symptoms associated with inflammatory conditions. Additionally, some studies suggest that Malunggay may have a positive impact on blood sugar control, making it potentially beneficial for individuals with diabetes.',\n",
       " 'How to use it?:',\n",
       " 'The leaves of Malunggay can be consumed raw or cooked. They can be added to salads, soups, stir-fries, or used as a nutritious garnish for various dishes. Malunggay leaves can also be dried and ground into a powder, which can be used as a supplement or added to smoothies, juices, or baked goods. Additionally, Malunggay leaves can be brewed into a tea by steeping them in hot water. The seeds and oil extracted from Malunggay are also used in traditional medicine and skincare products.',\n",
       " 'Sources:',\n",
       " 'Guava',\n",
       " 'Bayabas, also known as Guava, has the scientific name Psidium guajava.',\n",
       " 'Scientific name:',\n",
       " 'Psidium guajava',\n",
       " 'Benefits:',\n",
       " 'Bayabas is a tropical fruit-bearing tree that belongs to the Myrtaceae family. It is highly regarded for its rich nutrient content and potential health benefits. The fruit is an excellent source of antioxidants, including vitamin C and flavonoids, which help to neutralize harmful free radicals in the body and protect against cellular damage. Bayabas is also known for its high fiber content, which aids in digestion and promotes a healthy gastrointestinal system. Additionally, Bayabas contains several bioactive compounds with antimicrobial properties, which can help fight off infections and support immune function. The leaves of Bayabas are also utilized for their medicinal properties and are commonly used in traditional herbal remedies.',\n",
       " 'What can it cure?:',\n",
       " \"Bayabas is commonly used to manage digestive disorders, such as diarrhea and dysentery, due to its high fiber content and antimicrobial properties. The fruit's rich antioxidant content contributes to healthy skin and may help protect against skin aging and damage caused by UV radiation. Bayabas is also believed to have potential benefits for respiratory health, as it can help soothe coughs and alleviate symptoms of respiratory infections. Additionally, some studies suggest that Bayabas may have a positive impact on blood sugar control, making it potentially beneficial for individuals with diabetes.\",\n",
       " 'How to use it?:',\n",
       " 'The fruit of Bayabas can be eaten raw or juiced to enjoy its benefits. The flesh can be scooped out and consumed as is, or it can be blended with water to make a refreshing juice. The leaves of Bayabas can be used to make herbal teas by steeping them in hot water. These teas can be consumed for their potential digestive and respiratory benefits. The leaves can also be used externally, either by crushing them and applying the extract to the skin or using them as a poultice for wound healing.',\n",
       " 'Sources:',\n",
       " 'Lagundi',\n",
       " 'Lagundi, scientifically known as Vitex negundo, is a plant that possesses medicinal properties.',\n",
       " 'Scientific name:',\n",
       " 'Vitex negundo',\n",
       " 'Benefits:',\n",
       " 'Lagundi is a shrub or small tree that belongs to the Verbenaceae family. It is native to Southeast Asia and has been widely used in traditional medicine for centuries. Lagundi is therapeutic properties, particularly in the management of respiratory ailments. The leaves, flowers, and seeds of Lagundi contain several bioactive compounds, including flavonoids and alkaloids, which contribute to its medicinal benefits. Lagundi has expectorant, bronchodilatory, and anti-inflammatory properties, making it effective in relieving cough and cold symptoms, reducing inflammation, and promoting respiratory health.',\n",
       " 'What can it cure?:',\n",
       " 'Lagundi is commonly used to relieve cough and cold symptoms, including coughing, congestion, and sore throat. It is also beneficial for individuals with asthma, as it helps to relax and open up the airways, making breathing easier. Lagundi has been used traditionally to manage fever and respiratory infections, thanks to its antimicrobial properties. Additionally, Lagundi can be used externally to soothe skin irritations, insect bites, and muscle pain.',\n",
       " 'How to use it?:',\n",
       " 'To make Lagundi herbal tea, the leaves can be harvested and boiled in water for several minutes. The resulting infusion can be consumed as a tea to alleviate cough and cold symptoms. Lagundi leaves can also be crushed and applied topically to the affected area for external use. Alternatively, Lagundi oil can be extracted from the leaves and used for massages or added to carrier oils for topical application.',\n",
       " 'Sources:']"
      ]
     },
     "execution_count": 49,
     "metadata": {},
     "output_type": "execute_result"
    }
   ],
   "source": [
    "lines = raw_lines.copy()\n",
    "lines = [line.strip() for line in lines]\n",
    "lines = list(filter(lambda x:len(x) > 0, lines))\n",
    "sources = list(filter(lambda x:\"[\" in x, lines))\n",
    "texts = list(filter(lambda x:\"[\" not in x, lines))\n",
    "texts"
   ]
  },
  {
   "cell_type": "code",
   "execution_count": 50,
   "metadata": {},
   "outputs": [
    {
     "data": {
      "text/plain": [
       "110"
      ]
     },
     "execution_count": 50,
     "metadata": {},
     "output_type": "execute_result"
    }
   ],
   "source": [
    "len(texts)"
   ]
  },
  {
   "cell_type": "code",
   "execution_count": 51,
   "metadata": {},
   "outputs": [],
   "source": [
    "names = []\n",
    "short_infos = []\n",
    "scientific_names = []\n",
    "benefits = []\n",
    "cures = []\n",
    "uses = []\n",
    "\n",
    "for i in range(0, len(texts), 11):\n",
    "    names.append(texts[i])\n",
    "    short_infos.append(texts[i + 1])\n",
    "    scientific_names.append(texts[i + 3])\n",
    "    benefits.append(texts[i + 5])\n",
    "    cures.append(texts[i + 7])\n",
    "    uses.append(texts[i + 9])"
   ]
  },
  {
   "cell_type": "code",
   "execution_count": 52,
   "metadata": {},
   "outputs": [],
   "source": [
    "all_dict = {}\n",
    "for i in range(len(names)):\n",
    "    all_dict[names[i]] = {\n",
    "        \"Short Info\" : short_infos[i],\n",
    "        \"Scientifc Name\" : scientific_names[i],\n",
    "        \"Benefits\" : benefits[i],\n",
    "        \"Cure\" : cures[i],\n",
    "        \"Usage\" : uses[i],\n",
    "        \"Sources\" : []\n",
    "    }\n"
   ]
  },
  {
   "cell_type": "code",
   "execution_count": 57,
   "metadata": {},
   "outputs": [
    {
     "data": {
      "text/plain": [
       "dict_keys(['Jackfruit', 'Sambong', 'Lemon', 'Jasmine', 'Mango', 'Mint', 'Ampalaya', 'Malunggay', 'Guava', 'Lagundi'])"
      ]
     },
     "execution_count": 57,
     "metadata": {},
     "output_type": "execute_result"
    }
   ],
   "source": [
    "all_dict.keys()"
   ]
  },
  {
   "cell_type": "code",
   "execution_count": 58,
   "metadata": {},
   "outputs": [],
   "source": [
    "start = True\n",
    "cur = 0\n",
    "corr_keys = list(all_dict.keys())\n",
    "for source in sources:\n",
    "    if (\"[1]\" in source) and (start):\n",
    "        all_dict[corr_keys[cur]][\"Sources\"].append(source)\n",
    "        start = False\n",
    "\n",
    "    elif (\"[1]\" in source) and not (start):\n",
    "        cur += 1\n",
    "        all_dict[corr_keys[cur]][\"Sources\"].append(source)\n",
    "    \n",
    "    else:\n",
    "        all_dict[corr_keys[cur]][\"Sources\"].append(source)\n"
   ]
  },
  {
   "cell_type": "code",
   "execution_count": 59,
   "metadata": {},
   "outputs": [
    {
     "data": {
      "text/plain": [
       "{'Jackfruit': {'Short Info': 'Jackfruit, also known as Artocarpus Heterophyllus by scientific name, is a tropical fruit that grows in Asia, Africa, and South America.',\n",
       "  'Scientifc Name': 'Artocarpus Heterophyllus',\n",
       "  'Benefits': 'Jackfruit is known to be the largest edible fruit in the world. With a subtle sweetness, the popularity of jackfruit is partly because of its stringy flesh, the texture of which makes it a great meat substitute in vegan versions of classic recipes like pulled pork or chicken. Although, a popular meat substitute, the flesh of the jackfruit doesn’t contribute the same amount of protein, so for this reason it’s a good idea to combine it with other plant-based sources of protein such as beans, pulses, nuts and seeds. Jackfruit has relatively low calorie count and is richer in micronutrients than many other popular fruits. Its seeds and flesh contain more calcium and iron than other tropical fruits and is a useful source of B vitamins including B1, B3, B6 and folate.',\n",
       "  'Cure': 'Jackfruit is a useful source of a wide variety of phytonutrients, these plant compounds are protective and may help prevent the development of certain chronic diseases, such as diabetes. They include vitamin C, carotenoids as well as polyphenols and flavonoids. It also contains heart-friendly nutrients including potassium and fibre. It’s this gut-friendly fibre content along-with vitamin C and beta-carotene that suggests jackfruit may be useful for supporting immune health and potentially reduce the risk of viral infection. Moreover, a compound found in the seed of the fruit appears to activate key immune cells, called neutrophils. These immune cells are one of our first lines of defense, they boost the response of other immune cells and also initiate and mediate the inflammatory process. Phytonutrients in the leaves of the plant also appear to improve glucose tolerance in both those with normal blood sugar control as well as people with diabetes. Its nutrients can be used to lower the risk of some health issues such as constipation, ulcers, diabetes, high blood pressure, skin problems, and cancer.',\n",
       "  'Usage': \"Jackfruit isn't easy to peel because of its sticky sap. To keep it from gumming up your knife and hands, rub them with cooking oil before you slice open your fruit. Once you do, it will take time to separate the fleshy bulbs you can eat from tough strips of membrane, which you can't. You'll then have to remove the seeds from each bulb. You may prefer to eat jackfruit before it's fully ripe and the rind starts to smell like spoiled onions. If you cut it into chunks and boil them in salted water until they're tender, you can easily slice the meaty flesh from the rind. You can roast or boil the seeds like chestnuts. On the other hand, jackfruit’s seeds and flesh may be boiled and eaten in dishes like curries; when fully ripened the fruit can be enjoyed raw and used in both sweet and savoury dishes.\",\n",
       "  'Sources': ['[1] Torrens, K. (August, 2022). Top 5 health benefits of jackfruit.  Retrieved from https://www.bbcgoodfood.com/howto/guide/top-5-health-benefits-of-jackfruit',\n",
       "   '[2] Booth, S. (July, 2023). Health Benefits of Jackfruit. Retrieved from https://www.webmd.com/food-recipes/health-benefits-jackfruit']},\n",
       " 'Sambong': {'Short Info': 'Sambong, also known as Blumea balsamifera is a popular herbal plant in the Philippines.',\n",
       "  'Scientifc Name': 'Blumea balsamifera',\n",
       "  'Benefits': 'Sambong is a very popular Philippine herbal flowering plant used as medicine. Sambong displays a variety of biological activities such as antitumor, hepatoprotective, antioxidant, antimicrobial, anti-inflammatory, anti-melanogenic, platelet aggregation, wound healing, and anti-obesity properties.',\n",
       "  'Cure': 'Sambong is used as medicine to treat wounds and cuts, rheumatism, anti-diarrhea, anti-spams, colds and coughs. It is also used for infected wounds, respiratory infections and stomach pains. Sambong is very popular among people with kidney problems because of its diuretic qualities. It can be taken as an early afternoon tea to maintain a healthy urinary tract. It is used as herbal treatment for kidney stones, cuts or wounds, rheumatism, diarrhea, spasms, colds, coughs, and hypertension',\n",
       "  'Usage': 'Sambong leaves are generally boiled and taken as a tea. You may gather fresh leaves and chop them into small pieces then wash under running water thoroughly. Toss the chopped leaves into a liter of boiling water. Steep the leaves for 10 minutes then let the tea cool. The tea may be taken four times a day. Sambong may also be used to relieve arthritis colds and cough. To prepare, crush or grind the leaves into a paste and apply directly into the affected part. In addition, to relieve fever, crushed Sambong leaves must be soaked in cold water, wrung out and placed between sheets of clean cloth. The cloth plaster may then be placed on the patient’s forehead or armpit to lower the body temperature and prevent convulsions.',\n",
       "  'Sources': ['[1] Boy, H. I., Rutilla, A. J., Santos, K. A., Ty, A. M., Yu, A. I., Mahboob, T., Tangpoong, J., & Nissapatorn, V. (May, 2018). Recommended Medicinal Plants as Source of Natural Products: A Review. Retrieved from https://www.sciencedirect.com/science/article/pii/S2589377719300187#:~:text=Blumea%20balsamifera%20(Nagal%20camphor%20or%20Sambong)&text=A%20very%20popular%20Philippine%20herbal,respiratory%20infections%20and%20stomach%20pains.',\n",
       "   '[2] Herbanext (n.d.). Philippine Medicinal Herb. Blumea camphor/Sambong. Retrieved from https://www.herbanext.com/medicinal-herbs/blumea-camphor-sambong#:~:text=Sambong%20displays%20a%20variety%20of,%2C%20and%20anti%2Dobesity%20properties.',\n",
       "   '[3] Gelano, S. (January, 2014). Salamat Dok: Therapeutic benefits of sambong plant. Retrieved from https://news.abs-cbn.com/current-affairs-programs/01/12/14/salamat-dok-therapeutic-benefits-sambong-plant#:~:text=Sambong%20leaves%20are%20generally%20boiled,then%20let%20the%20tea%20cool.']},\n",
       " 'Lemon': {'Short Info': 'Lemon, scientifically known as Citrus limon, is a bright yellow citrus fruit.',\n",
       "  'Scientifc Name': 'Citrus limon',\n",
       "  'Benefits': 'Lemons are a good source of vitamin C. A single lemon provides about 31 mg of vitamin C, which is 51% of the reference daily intake. The fiber and plant compounds in lemons could also significantly lower some risk factors for heart disease. It contains plant compounds such as hesperidin and diosmin which has lower cholesterol. Also, the plant compounds in lemon extracts may help prevent or reduce weight gain. Not only are lemons a very healthy fruit, but they also have a distinct, pleasant taste and smell that make them a great addition to foods and drinks.',\n",
       "  'Cure': 'Lemon is reach in vitamin C which reduces the risk of heart disease and stroke. The plant compounds it contains can also significantly lower the risk factors for heart disease. It contains citric acid which may help prevent kidney stones by increasing urine volume and increasing urine pH. Moreover, lemon contains some iron which can aid preventing anemia. Specifically, it improves the absorption of the iron which then prevents anemia. The gut absorbs iron from meat, chicken, and fish (known as heme iron) very easily, while iron from plant sources (non-heme iron) not as easily. However, this absorption can be improved by consuming vitamin C and citric acid. Because lemons contain both vitamin C and citric acid, they may protect against anemia by ensuring that you absorb as much iron as possible from your diet.',\n",
       "  'Usage': 'Lemon leaves, when boiled to make teas, may have antispasmodic and sedative properties. Lemon leaves are not consumed and are best suited for cooking applications such as grilling or sautéing. They can be used fresh for their aromatics, which is their singular culinary attribute. Lemon leaves can be wrapped around seafood and meats and can be roasted, steamed, or grilled. They can also be used to flavor kabobs, used in curries, and blanched and used to infuse tea. Lemon leaves can be used as a garnish for desserts such as lemon cakes and they can also be used as a mold to make chocolate leaves. Lemon leaves pair well with fresh seafood, oysters, fresh anchovy fillets, pork, chicken, mint, parsley, basil, garlic, olive oil, vinegar, and chopped pistachios. They will keep for 1-2 days when stored fresh in the refrigerator. They can also be dried for extended use.',\n",
       "  'Sources': ['[1] West, H. (April, 2023). 6 Evidence-Based Health Benefits of Lemons. Retrieved from https://www.healthline.com/nutrition/6-lemon-health-benefits',\n",
       "   '[2] Specialty Produce (n.d.).  Lemon Leaves. Retrieved from https://specialtyproduce.com/produce/Lemon_Leaves_3405.php']},\n",
       " 'Jasmine': {'Short Info': 'Jasmine which is also known as Jasminum is a plant with a flower used in making medicine.',\n",
       "  'Scientifc Name': 'Jasminum',\n",
       "  'Benefits': 'Jasmine leaves can be used to brew jasmine tea which has health benefits. It includes aiding calm, improving mental clarity, and boosting the immune system. Tea scented with jasmine has been shown to have a calming, sedative effect that can help you to relax. Green, white, and black teas also contain l-theanine, a unique compound present in tea that can help to reduce anxiety and stress. Jasmine tea is loaded with powerful plant-based compounds known as polyphenols. These act as antioxidants in your body and protect your cells against free radical damage. Studies have linked free radical damage to heart disease and several types of cancer.',\n",
       "  'Cure': 'Jasmine has been used for liver disease (hepatitis), liver pain due to cirrhosis, and abdominal pain due to severe diarrhea (dysentery). It is also used to cause relaxation (as a sedative), to heighten sexual desire (as an aphrodisiac), and in cancer treatment. Jasmine leaves can be used to create jasmine tea which has health benefits. Jasmine tea is high in polyphenols, which may help protect against heart disease. Jasmine tea is packed with powerful polyphenols, which may lower your risk of Alzheimer’s and Parkinson’s disease. In particular, jasmine tea made from green tea is high in EGCG, which may suppress inflammation and neutralize free radical damage — two key factors associated with the progression of Alzheimer’s and Parkinson’s disease.',\n",
       "  'Usage': 'Three grams of jasmine tea leaves and 500ml of water are the only ingredients required to prepare a jasmine tea. The jasmine tea must be brewed in 500ml of hot water at 80ºC. If steeping loose leaf tea, a teapot or mug with a strainer must be used. Let it wait for 40 seconds and strain the tea leaves until it cools down for another 2 minutes.',\n",
       "  'Sources': ['[1] RxList. (n.d.). Jasmine Overview. Retrieved from https://www.rxlist.com/supplements/jasmine.htm',\n",
       "   '[2] Raman, R. (July, 2023). 9 Reasons Why Jasmine Tea Is Good for You. Retrieved from https://www.healthline.com/nutrition/jasmine-tea-benefits',\n",
       "   '[3] Artful tea. (n.d.). 6 Jasmine Tea Benefits: Calming, Immune Boosting, and More. Retrieved from https://artfultea.com/blogs/wellness/jasmine-tea',\n",
       "   '[4] Teasenz. (June, 2023). How to Make Jasmine Tea: 5 Ways to Make Jasmine Tea. Retrieved from https://www.teasenz.com/chinese-tea/how-to-make-jasmine-tea.html']},\n",
       " 'Mango': {'Short Info': 'Mango, also known as Mangifera indica, is a fruit native to India and Southeast Asia.',\n",
       "  'Scientifc Name': 'Mangifera indica',\n",
       "  'Benefits': 'Mango is not only delicious but also boasts an impressive nutritional profile. One of its most impressive nutrient facts is that just 1 cup (165 grams) of fresh mango provides nearly 67% of the DV for vitamin C. This water-soluble vitamin aids your immune system, helps your body absorb iron, and promotes cell growth and repair. Mango is also a good source of the minerals copper and folate, which are especially important nutrients during pregnancy, as they support healthy fetal growth and development. Moreover, it has few calories for the volume of food it provides. Mango is a good source of immune-boosting nutrients such as Vitamin A which is essential for a healthy immune system preventing risk of infection. Its leaves also provide health benefits.',\n",
       "  'Cure': 'Mango leaves have antibacterial properties that help treat bacterial skin infections such as staph Infections and skin burns. The mango leaves contain essential properties and nutrients that help to heal the burns and scalds on the skin. The leaves are rich in nutrients like Vitamin C and A, which boosts the production of collagen that is important for healthy hair. It gives a shine to your dull hair. Furthermore, mango leaves are excellent in balancing blood sugar levels in diabetic patients. Those leaves contain tannins called anthocyanidins that may help in treating early diabetes. It also contains 3beta taraxerol and ethyl acetate, which help treat hyperglycemia (increased blood sugar levels). Its hypotensive properties also aid in reducing blood pressure.',\n",
       "  'Usage': 'Mango fruit can be prepared for eating easily. On the other hand, mango leaves can be used to prepare tea. Take fresh and bright mango leaves or even baby leaves around 10 to 15 and wash them. Chop the leaves and cut them into small pieces. Add those pieces to the tea infuser with some honey. Add boiled water to the infuser and cover it. Let the leaves steep for around 10 minutes.Finally, remove the infuser and pour the water into a cup or glass.',\n",
       "  'Sources': ['[1] Raman, R. & Snyder, C. (February, 2023). 10 Health Benefits of Mango. Retrieved from https://www.healthline.com/nutrition/mango',\n",
       "   '[2] Toshi, N. (September, 2023). 8 Unknown Benefits of Mango Leaves. Retrieved from https://pharmeasy.in/blog/6-unknown-benefits-of-mango-leaves/#Health_benefits_of_mango_leaves']},\n",
       " 'Mint': {'Short Info': 'Mint, scientifically known as Mentha, is a herb that offers numerous benefits. Mint is a perennial plant that belongs to the Lamiaceae family. It is widely cultivated for its aromatic leaves, which contain essential oils that give mint its distinctive flavor and scent. The scientific name Mentha encompasses various species and hybrids, including peppermint (Mentha x piperita) and spearmint (Mentha spicata).',\n",
       "  'Scientifc Name': 'Mentha',\n",
       "  'Benefits': 'Mint has long been recognized for its beneficial properties. It aids digestion by promoting the production of digestive enzymes, which can help to alleviate indigestion, bloating, and stomach discomfort. Mint is also known for its ability to freshen breath and provide a cooling sensation. The menthol compound found in mint acts as a natural decongestant, making it useful for relieving nasal congestion and soothing sore throats. Furthermore, mint possesses antimicrobial properties, which can help to combat oral bacteria and reduce the risk of dental issues.',\n",
       "  'Cure': 'Mint has been used traditionally to treat various ailments. It is commonly used to alleviate indigestion, nausea, headaches, and colds. Mint tea is often consumed to relieve digestive discomfort and promote healthy digestion. The menthol in mint can provide temporary relief from headaches and migraines when applied topically or inhaled. Mint can also help to soothe coughs and clear congestion when used in the form of steam inhalation or added to throat lozenges.',\n",
       "  'Usage': 'Mint can be used in various forms to enjoy its benefits. The leaves can be steeped in hot water to make a refreshing tea. Simply add a handful of fresh mint leaves to a cup of boiling water, let it steep for a few minutes, and strain before drinking. Mint leaves can also be added to salads, smoothies, or used as a garnish for dishes. Additionally, mint essential oil can be diluted and applied topically for headaches or used in aromatherapy diffusers for its calming and invigorating scent.',\n",
       "  'Sources': ['[1] Benefits of mint for digestion and breath freshness. (n.d.). Retrieved from https://www.ncbi.nlm.nih.gov/pmc/articles/PMC4425174/',\n",
       "   '[2] McKay, D. L., & Blumberg, J. B. (2006). A review of the bioactivity and potential health benefits of peppermint tea (Mentha piperita L.). Phytotherapy Research, 20(8), 619-633.',\n",
       "   '[3] Viana, G. S., & do Vale, T. G. (2008). Behavioral effects of essential oil of Mentha spicata L. and its main components, menthone and menthol. Revista Brasileira de Farmacognosia, 18(1), 45-50.']},\n",
       " 'Ampalaya': {'Short Info': 'Ampalaya, also known as Bitter Melon or Bitter Gourd, has the scientific name Momordica charantia.',\n",
       "  'Scientifc Name': 'Momordica charantia.',\n",
       "  'Benefits': \"Ampalaya is a tropical vine that belongs to the Cucurbitaceae family. It offers several health benefits. It is rich in vitamins, minerals, and antioxidants, making it a valuable addition to a balanced diet. Ampalaya has been traditionally used for its ability to regulate blood sugar levels, making it beneficial for individuals with diabetes. It contains compounds that help improve insulin sensitivity and reduce glucose production in the liver. Additionally, Ampalaya has immune-boosting properties due to its high vitamin C content, which can help strengthen the body's defenses against infections.\",\n",
       "  'Cure': \"Ampalaya is commonly used to manage diabetes, high cholesterol levels, and aid in weight loss. The plant's bioactive compounds have been shown to have anti-diabetic properties by improving glucose metabolism and insulin signaling. Ampalaya also has cholesterol-lowering effects, as it can help reduce the absorption of dietary cholesterol. Furthermore, the high fiber content in Ampalaya can promote satiety and aid in weight management.\",\n",
       "  'Usage': 'Ampalaya can be prepared in various ways to enjoy its benefits. The fruit can be cooked in stir-fries, soups, or curries to add a bitter and distinctive flavor to dishes. It can also be juiced, either alone or combined with other fruits and vegetables, to create a nutritious and refreshing beverage. Some people prefer to consume Ampalaya in the form of dietary supplements, which are available as capsules or powders. However, it is important to consult with a healthcare professional before starting any new supplement regimen.',\n",
       "  'Sources': ['[1] Regulation of blood sugar and other health benefits of Momordica charantia. (n.d.). Retrieved from https://www.ncbi.nlm.nih.gov/pmc/articles/PMC4027280/',\n",
       "   '[2] Dans, A. M., Villarruz, M. V., Jimeno, C. A., Javelosa, M. A., Chua, J., Bautista, R., ... & Velez, G. G. (2007). The effect of Momordica charantia capsule preparation on glycemic control in type 2 diabetes mellitus needs further studies. Journal of Clinical Epidemiology, 60(6), 554-559.']},\n",
       " 'Malunggay': {'Short Info': 'Malunggay, scientifically called Moringa oleifera, is a plant that is rich in nutrients and known to boost energy levels.',\n",
       "  'Scientifc Name': 'Moringa oleifera',\n",
       "  'Benefits': 'Malunggay is a fast-growing tree that is native to tropical and subtropical regions. It is often referred to as the \"Miracle Tree\" due to its exceptional nutritional profile. Malunggay leaves are highly nutritious, containing vitamins A, C, and E, iron, calcium, and protein. It is also rich in antioxidants, including flavonoids and phenolic compounds, which help protect the body against oxidative stress and inflammation. Malunggay has been traditionally used in various cultures for its medicinal properties and is believed to boost energy levels and support overall health and well-being.',\n",
       "  'Cure': 'Malunggay is used to combat malnutrition, reduce inflammation, and manage certain health conditions such as diabetes. The high nutritional content of Malunggay makes it a valuable supplement for individuals who are at risk of nutrient deficiencies or suffer from malnutrition. The anti-inflammatory properties of Malunggay may help reduce inflammation in the body and alleviate symptoms associated with inflammatory conditions. Additionally, some studies suggest that Malunggay may have a positive impact on blood sugar control, making it potentially beneficial for individuals with diabetes.',\n",
       "  'Usage': 'The leaves of Malunggay can be consumed raw or cooked. They can be added to salads, soups, stir-fries, or used as a nutritious garnish for various dishes. Malunggay leaves can also be dried and ground into a powder, which can be used as a supplement or added to smoothies, juices, or baked goods. Additionally, Malunggay leaves can be brewed into a tea by steeping them in hot water. The seeds and oil extracted from Malunggay are also used in traditional medicine and skincare products.',\n",
       "  'Sources': ['[1] Nutritional benefits and therapeutic uses of Moringa oleifera. (n.d.). Retrieved from https://www.ncbi.nlm.nih.gov/pmc/articles/PMC5805166/',\n",
       "   '[2] Anwar, F., Latif, S., Ashraf, M., & Gilani, A. H. (2007). Moringa oleifera: a food plant with multiple medicinal uses. Phytotherapy Research, 21(1), 17-25.']},\n",
       " 'Guava': {'Short Info': 'Bayabas, also known as Guava, has the scientific name Psidium guajava.',\n",
       "  'Scientifc Name': 'Psidium guajava',\n",
       "  'Benefits': 'Bayabas is a tropical fruit-bearing tree that belongs to the Myrtaceae family. It is highly regarded for its rich nutrient content and potential health benefits. The fruit is an excellent source of antioxidants, including vitamin C and flavonoids, which help to neutralize harmful free radicals in the body and protect against cellular damage. Bayabas is also known for its high fiber content, which aids in digestion and promotes a healthy gastrointestinal system. Additionally, Bayabas contains several bioactive compounds with antimicrobial properties, which can help fight off infections and support immune function. The leaves of Bayabas are also utilized for their medicinal properties and are commonly used in traditional herbal remedies.',\n",
       "  'Cure': \"Bayabas is commonly used to manage digestive disorders, such as diarrhea and dysentery, due to its high fiber content and antimicrobial properties. The fruit's rich antioxidant content contributes to healthy skin and may help protect against skin aging and damage caused by UV radiation. Bayabas is also believed to have potential benefits for respiratory health, as it can help soothe coughs and alleviate symptoms of respiratory infections. Additionally, some studies suggest that Bayabas may have a positive impact on blood sugar control, making it potentially beneficial for individuals with diabetes.\",\n",
       "  'Usage': 'The fruit of Bayabas can be eaten raw or juiced to enjoy its benefits. The flesh can be scooped out and consumed as is, or it can be blended with water to make a refreshing juice. The leaves of Bayabas can be used to make herbal teas by steeping them in hot water. These teas can be consumed for their potential digestive and respiratory benefits. The leaves can also be used externally, either by crushing them and applying the extract to the skin or using them as a poultice for wound healing.',\n",
       "  'Sources': ['[1] Antioxidant properties and digestive benefits of Psidium guajava. (n.d.). Retrieved from https://pubmed.ncbi.nlm.nih.gov/22962641/',\n",
       "   '[2] Chahal, K. K., & Kaur, M. (2011). Guava: A boon for respiratory health. Pharmacognosy Reviews, 5(9), 103-110.']},\n",
       " 'Lagundi': {'Short Info': 'Lagundi, scientifically known as Vitex negundo, is a plant that possesses medicinal properties.',\n",
       "  'Scientifc Name': 'Vitex negundo',\n",
       "  'Benefits': 'Lagundi is a shrub or small tree that belongs to the Verbenaceae family. It is native to Southeast Asia and has been widely used in traditional medicine for centuries. Lagundi is therapeutic properties, particularly in the management of respiratory ailments. The leaves, flowers, and seeds of Lagundi contain several bioactive compounds, including flavonoids and alkaloids, which contribute to its medicinal benefits. Lagundi has expectorant, bronchodilatory, and anti-inflammatory properties, making it effective in relieving cough and cold symptoms, reducing inflammation, and promoting respiratory health.',\n",
       "  'Cure': 'Lagundi is commonly used to relieve cough and cold symptoms, including coughing, congestion, and sore throat. It is also beneficial for individuals with asthma, as it helps to relax and open up the airways, making breathing easier. Lagundi has been used traditionally to manage fever and respiratory infections, thanks to its antimicrobial properties. Additionally, Lagundi can be used externally to soothe skin irritations, insect bites, and muscle pain.',\n",
       "  'Usage': 'To make Lagundi herbal tea, the leaves can be harvested and boiled in water for several minutes. The resulting infusion can be consumed as a tea to alleviate cough and cold symptoms. Lagundi leaves can also be crushed and applied topically to the affected area for external use. Alternatively, Lagundi oil can be extracted from the leaves and used for massages or added to carrier oils for topical application.',\n",
       "  'Sources': ['[1] Therapeutic uses of Vitex negundo for respiratory ailments. (n.d.). Retrieved from https://www.ncbi.nlm.nih.gov/pmc/articles/PMC3425141/',\n",
       "   '[2] Salve, H., & Chanda, S. (2014). Pharmacological activities of Vitex negundo Linn: A review. Journal of Applied Pharmaceutical Science, 4(1), 68-77.']}}"
      ]
     },
     "execution_count": 59,
     "metadata": {},
     "output_type": "execute_result"
    }
   ],
   "source": [
    "all_dict"
   ]
  },
  {
   "cell_type": "code",
   "execution_count": 60,
   "metadata": {},
   "outputs": [],
   "source": [
    "with open(\"Testing_data.json\", \"w\", encoding=\"utf-8\") as f:\n",
    "    json.dump(all_dict, f)"
   ]
  },
  {
   "cell_type": "code",
   "execution_count": null,
   "metadata": {},
   "outputs": [],
   "source": []
  }
 ],
 "metadata": {
  "kernelspec": {
   "display_name": "Python 3",
   "language": "python",
   "name": "python3"
  },
  "language_info": {
   "codemirror_mode": {
    "name": "ipython",
    "version": 3
   },
   "file_extension": ".py",
   "mimetype": "text/x-python",
   "name": "python",
   "nbconvert_exporter": "python",
   "pygments_lexer": "ipython3",
   "version": "3.10.0"
  }
 },
 "nbformat": 4,
 "nbformat_minor": 2
}

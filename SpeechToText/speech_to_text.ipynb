{
 "cells": [
  {
   "cell_type": "markdown",
   "metadata": {},
   "source": [
    "# SPEECH TO TEXT USING OpenAi Whisper Pre-trained Model"
   ]
  },
  {
   "cell_type": "markdown",
   "metadata": {},
   "source": [
    "Load the Model"
   ]
  },
  {
   "cell_type": "code",
   "execution_count": 1,
   "metadata": {},
   "outputs": [
    {
     "name": "stderr",
     "output_type": "stream",
     "text": [
      "100%|███████████████████████████████████████| 139M/139M [00:52<00:00, 2.78MiB/s]\n"
     ]
    }
   ],
   "source": [
    "import whisper\n",
    "\n",
    "model = whisper.load_model(\"base\")"
   ]
  },
  {
   "cell_type": "markdown",
   "metadata": {},
   "source": [
    "Setup SpeechRecognition Library and Record the Audio"
   ]
  },
  {
   "cell_type": "code",
   "execution_count": null,
   "metadata": {},
   "outputs": [],
   "source": [
    "import speech_recognition as sr\n",
    "#Set SR Instance\n",
    "r = sr.Recognizer()\n",
    "#Specify Microphone Device which may vary\n",
    "mic = sr.Microphone(device_index=1)\n",
    "\n",
    "#Start Recording Using Specified Microphone Device\n",
    "#The Recording would automatically stop once silence is recognized\n",
    "with mic as source:\n",
    "    r.adjust_for_ambient_noise(source)\n",
    "    print(\"Start Talking\")\n",
    "    audio = r.listen(source)\n",
    "print(\"Done Recording\")\n",
    "\n",
    "with open(\"input_audio.wav\", \"wb\") as file:\n",
    "    file.write(audio.get_wav_data())\n",
    "file.close()\n",
    "print(\"Recording File Saved\")\n"
   ]
  },
  {
   "cell_type": "markdown",
   "metadata": {},
   "source": [
    "Load the Audio and Pad or Trim to 30s span"
   ]
  },
  {
   "cell_type": "code",
   "execution_count": 73,
   "metadata": {},
   "outputs": [],
   "source": [
    "theAudio = whisper.load_audio(\"input_audio.wav\")\n",
    "theAudio = whisper.pad_or_trim(theAudio)"
   ]
  },
  {
   "cell_type": "markdown",
   "metadata": {},
   "source": [
    "Make log-Mel spectrogram and Move to the same device as model"
   ]
  },
  {
   "cell_type": "code",
   "execution_count": 74,
   "metadata": {},
   "outputs": [],
   "source": [
    "m = whisper.log_mel_spectrogram(theAudio).to(model.device)"
   ]
  },
  {
   "cell_type": "markdown",
   "metadata": {},
   "source": [
    "Detect the Language of the Recorded Audio"
   ]
  },
  {
   "cell_type": "code",
   "execution_count": 75,
   "metadata": {},
   "outputs": [
    {
     "name": "stdout",
     "output_type": "stream",
     "text": [
      "Detected language: en\n"
     ]
    }
   ],
   "source": [
    "_, probs = model.detect_language(m)\n",
    "print(f\"Detected language: {max(probs, key=probs.get)}\")"
   ]
  },
  {
   "cell_type": "markdown",
   "metadata": {},
   "source": [
    "Decode the Audio"
   ]
  },
  {
   "cell_type": "code",
   "execution_count": 76,
   "metadata": {},
   "outputs": [],
   "source": [
    "options = whisper.DecodingOptions(fp16=False)\n",
    "output = whisper.decode(model, m, options)"
   ]
  },
  {
   "cell_type": "markdown",
   "metadata": {},
   "source": [
    "Get the Text from Converted Audio"
   ]
  },
  {
   "cell_type": "code",
   "execution_count": 77,
   "metadata": {},
   "outputs": [
    {
     "name": "stdout",
     "output_type": "stream",
     "text": [
      "What hairball can I use for head aches?\n"
     ]
    }
   ],
   "source": [
    "transcription = output.text\n",
    "print(transcription)"
   ]
  },
  {
   "cell_type": "markdown",
   "metadata": {},
   "source": [
    "Delete File After Extracting the Text"
   ]
  },
  {
   "cell_type": "code",
   "execution_count": 78,
   "metadata": {},
   "outputs": [],
   "source": [
    "import os\n",
    "os.remove(\"input_audio.wav\")"
   ]
  },
  {
   "cell_type": "markdown",
   "metadata": {},
   "source": [
    "# Part for Loading Audio and Filtering for API"
   ]
  },
  {
   "cell_type": "code",
   "execution_count": null,
   "metadata": {},
   "outputs": [],
   "source": [
    "#Import Libraries for Speech to Text\n",
    "import whisper\n",
    "import speech_recognition as sr\n",
    "\n",
    "#Load Model\n",
    "model = whisper.load_model(\"base\")\n",
    "\n",
    "#EDIT THIS, ADD THE LOADING OF THE AUDIO ENCODED IN BASE64 FROM MOBILE APP THROUGH API AND JSON\n",
    "\n",
    "#ADD DECODING OF THE BASE64 \n",
    "\n",
    "#Load the Audio Sent from the API and Pad or Trim to 30s span\n",
    "theAudio = whisper.load_audio(\"input_audio.wav\")\n",
    "theAudio = whisper.pad_or_trim(theAudio)\n",
    "\n",
    "#Make log-Mel spectrogram and Move to the same device as model\n",
    "m = whisper.log_mel_spectrogram(theAudio).to(model.device)\n",
    "\n",
    "#Detect the Language of the Recorded Audio\n",
    "_, probs = model.detect_language(m)\n",
    "print(f\"Detected language: {max(probs, key=probs.get)}\")\n",
    "\n",
    "#Decode the Audio\n",
    "options = whisper.DecodingOptions(fp16=False)\n",
    "output = whisper.decode(model, m, options)\n",
    "\n",
    "#Initialize Transcription\n",
    "transcription = output.text\n",
    "print(transcription)\n",
    "\n",
    "#PASS THIS TRANSCRIPTION TO THE MOBILE APP\n"
   ]
  }
 ],
 "metadata": {
  "kernelspec": {
   "display_name": "Python 3",
   "language": "python",
   "name": "python3"
  },
  "language_info": {
   "codemirror_mode": {
    "name": "ipython",
    "version": 3
   },
   "file_extension": ".py",
   "mimetype": "text/x-python",
   "name": "python",
   "nbconvert_exporter": "python",
   "pygments_lexer": "ipython3",
   "version": "3.10.0"
  }
 },
 "nbformat": 4,
 "nbformat_minor": 2
}

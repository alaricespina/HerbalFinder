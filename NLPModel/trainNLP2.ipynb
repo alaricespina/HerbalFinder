{
 "cells": [
  {
   "cell_type": "markdown",
   "metadata": {},
   "source": [
    "# An NLP Model for Multilabel Classification of Herbal Plants Based on Symptoms Using ClinicalBERT"
   ]
  },
  {
   "cell_type": "code",
   "execution_count": 1,
   "metadata": {},
   "outputs": [
    {
     "name": "stderr",
     "output_type": "stream",
     "text": [
      "c:\\Users\\KHYLE MATTHEW\\AppData\\Local\\Programs\\Python\\Python310\\lib\\site-packages\\tqdm\\auto.py:21: TqdmWarning: IProgress not found. Please update jupyter and ipywidgets. See https://ipywidgets.readthedocs.io/en/stable/user_install.html\n",
      "  from .autonotebook import tqdm as notebook_tqdm\n"
     ]
    }
   ],
   "source": [
    "#Import Necessary Libraries\n",
    "import numpy as np\n",
    "import pandas as pd\n",
    "import os\n",
    "\n",
    "from datasets import load_dataset, DatasetDict\n",
    "from transformers import AutoTokenizer, AutoModelForSequenceClassification, TrainingArguments, Trainer\n",
    "import torch"
   ]
  },
  {
   "cell_type": "code",
   "execution_count": 2,
   "metadata": {},
   "outputs": [],
   "source": [
    "# dataset = pd.read_csv(\"dataset/dataset.csv\")\n",
    "# ds_train, ds_valid, ds_test = np.split(dataset.sample(frac=1, random_state=42), [int(.6*len(dataset)), int(.8*len(dataset))])\n",
    "dataset = load_dataset(\"csv\", data_files=\"dataset/dataset.csv\")"
   ]
  },
  {
   "cell_type": "code",
   "execution_count": 3,
   "metadata": {},
   "outputs": [],
   "source": [
    "ds_train = dataset['train'].train_test_split(test_size=0.2, seed=42)\n",
    "ds_test = ds_train['test'].train_test_split(test_size=0.5, seed=42)"
   ]
  },
  {
   "cell_type": "code",
   "execution_count": 4,
   "metadata": {},
   "outputs": [],
   "source": [
    "dataset = DatasetDict({\n",
    "    'train': ds_train['train'],\n",
    "    'valid': ds_test['train'],\n",
    "    'test': ds_test['test']\n",
    "})"
   ]
  },
  {
   "cell_type": "code",
   "execution_count": 5,
   "metadata": {},
   "outputs": [
    {
     "data": {
      "text/plain": [
       "DatasetDict({\n",
       "    train: Dataset({\n",
       "        features: ['index', 'SYMPTOMS', 'JACKFRUIT', 'SAMBONG', 'LEMON', 'JASMINE', 'MANGO', 'MINT', 'AMPALAYA', 'MALUNGGAY', 'GUAVA', 'LAGUNDI'],\n",
       "        num_rows: 1088\n",
       "    })\n",
       "    valid: Dataset({\n",
       "        features: ['index', 'SYMPTOMS', 'JACKFRUIT', 'SAMBONG', 'LEMON', 'JASMINE', 'MANGO', 'MINT', 'AMPALAYA', 'MALUNGGAY', 'GUAVA', 'LAGUNDI'],\n",
       "        num_rows: 136\n",
       "    })\n",
       "    test: Dataset({\n",
       "        features: ['index', 'SYMPTOMS', 'JACKFRUIT', 'SAMBONG', 'LEMON', 'JASMINE', 'MANGO', 'MINT', 'AMPALAYA', 'MALUNGGAY', 'GUAVA', 'LAGUNDI'],\n",
       "        num_rows: 136\n",
       "    })\n",
       "})"
      ]
     },
     "execution_count": 5,
     "metadata": {},
     "output_type": "execute_result"
    }
   ],
   "source": [
    "dataset"
   ]
  },
  {
   "cell_type": "code",
   "execution_count": 6,
   "metadata": {},
   "outputs": [
    {
     "data": {
      "text/plain": [
       "{'index': 195,\n",
       " 'SYMPTOMS': 'I need a herbal for ulcers',\n",
       " 'JACKFRUIT': 1,\n",
       " 'SAMBONG': 0,\n",
       " 'LEMON': 0,\n",
       " 'JASMINE': 0,\n",
       " 'MANGO': 0,\n",
       " 'MINT': 0,\n",
       " 'AMPALAYA': 0,\n",
       " 'MALUNGGAY': 0,\n",
       " 'GUAVA': 0,\n",
       " 'LAGUNDI': 0}"
      ]
     },
     "execution_count": 6,
     "metadata": {},
     "output_type": "execute_result"
    }
   ],
   "source": [
    "dataset['train'][0]"
   ]
  },
  {
   "cell_type": "code",
   "execution_count": 7,
   "metadata": {},
   "outputs": [
    {
     "data": {
      "text/plain": [
       "{'train': (1088, 12), 'valid': (136, 12), 'test': (136, 12)}"
      ]
     },
     "execution_count": 7,
     "metadata": {},
     "output_type": "execute_result"
    }
   ],
   "source": [
    "dataset.shape"
   ]
  },
  {
   "cell_type": "code",
   "execution_count": 8,
   "metadata": {},
   "outputs": [
    {
     "data": {
      "text/plain": [
       "{'train': ['index',\n",
       "  'SYMPTOMS',\n",
       "  'JACKFRUIT',\n",
       "  'SAMBONG',\n",
       "  'LEMON',\n",
       "  'JASMINE',\n",
       "  'MANGO',\n",
       "  'MINT',\n",
       "  'AMPALAYA',\n",
       "  'MALUNGGAY',\n",
       "  'GUAVA',\n",
       "  'LAGUNDI'],\n",
       " 'valid': ['index',\n",
       "  'SYMPTOMS',\n",
       "  'JACKFRUIT',\n",
       "  'SAMBONG',\n",
       "  'LEMON',\n",
       "  'JASMINE',\n",
       "  'MANGO',\n",
       "  'MINT',\n",
       "  'AMPALAYA',\n",
       "  'MALUNGGAY',\n",
       "  'GUAVA',\n",
       "  'LAGUNDI'],\n",
       " 'test': ['index',\n",
       "  'SYMPTOMS',\n",
       "  'JACKFRUIT',\n",
       "  'SAMBONG',\n",
       "  'LEMON',\n",
       "  'JASMINE',\n",
       "  'MANGO',\n",
       "  'MINT',\n",
       "  'AMPALAYA',\n",
       "  'MALUNGGAY',\n",
       "  'GUAVA',\n",
       "  'LAGUNDI']}"
      ]
     },
     "execution_count": 8,
     "metadata": {},
     "output_type": "execute_result"
    }
   ],
   "source": [
    "dataset.column_names"
   ]
  },
  {
   "cell_type": "code",
   "execution_count": 9,
   "metadata": {},
   "outputs": [],
   "source": [
    "dataset = dataset.remove_columns('index')"
   ]
  },
  {
   "cell_type": "code",
   "execution_count": 10,
   "metadata": {},
   "outputs": [
    {
     "data": {
      "text/plain": [
       "{'SYMPTOMS': 'I need a herbal for ulcers',\n",
       " 'JACKFRUIT': 1,\n",
       " 'SAMBONG': 0,\n",
       " 'LEMON': 0,\n",
       " 'JASMINE': 0,\n",
       " 'MANGO': 0,\n",
       " 'MINT': 0,\n",
       " 'AMPALAYA': 0,\n",
       " 'MALUNGGAY': 0,\n",
       " 'GUAVA': 0,\n",
       " 'LAGUNDI': 0}"
      ]
     },
     "execution_count": 10,
     "metadata": {},
     "output_type": "execute_result"
    }
   ],
   "source": [
    "dataset['train'][0]"
   ]
  },
  {
   "cell_type": "code",
   "execution_count": 11,
   "metadata": {},
   "outputs": [
    {
     "data": {
      "text/plain": [
       "DatasetDict({\n",
       "    train: Dataset({\n",
       "        features: ['SYMPTOMS', 'JACKFRUIT', 'SAMBONG', 'LEMON', 'JASMINE', 'MANGO', 'MINT', 'AMPALAYA', 'MALUNGGAY', 'GUAVA', 'LAGUNDI', 'labels'],\n",
       "        num_rows: 1088\n",
       "    })\n",
       "    valid: Dataset({\n",
       "        features: ['SYMPTOMS', 'JACKFRUIT', 'SAMBONG', 'LEMON', 'JASMINE', 'MANGO', 'MINT', 'AMPALAYA', 'MALUNGGAY', 'GUAVA', 'LAGUNDI', 'labels'],\n",
       "        num_rows: 136\n",
       "    })\n",
       "    test: Dataset({\n",
       "        features: ['SYMPTOMS', 'JACKFRUIT', 'SAMBONG', 'LEMON', 'JASMINE', 'MANGO', 'MINT', 'AMPALAYA', 'MALUNGGAY', 'GUAVA', 'LAGUNDI', 'labels'],\n",
       "        num_rows: 136\n",
       "    })\n",
       "})"
      ]
     },
     "execution_count": 11,
     "metadata": {},
     "output_type": "execute_result"
    }
   ],
   "source": [
    "cols = dataset['train'].column_names\n",
    "dataset = dataset.map(lambda x : {\"labels\": [x[c] for c in cols if c != \"SYMPTOMS\"]})\n",
    "dataset"
   ]
  },
  {
   "cell_type": "code",
   "execution_count": 12,
   "metadata": {},
   "outputs": [
    {
     "data": {
      "text/plain": [
       "{'SYMPTOMS': 'My need concerns with rich in iron',\n",
       " 'JACKFRUIT': 0,\n",
       " 'SAMBONG': 0,\n",
       " 'LEMON': 1,\n",
       " 'JASMINE': 0,\n",
       " 'MANGO': 1,\n",
       " 'MINT': 0,\n",
       " 'AMPALAYA': 0,\n",
       " 'MALUNGGAY': 0,\n",
       " 'GUAVA': 0,\n",
       " 'LAGUNDI': 0,\n",
       " 'labels': [0, 0, 1, 0, 1, 0, 0, 0, 0, 0]}"
      ]
     },
     "execution_count": 12,
     "metadata": {},
     "output_type": "execute_result"
    }
   ],
   "source": [
    "dataset['train'][2]"
   ]
  },
  {
   "cell_type": "code",
   "execution_count": 13,
   "metadata": {},
   "outputs": [],
   "source": [
    "model_ckpt = 'medicalai/ClinicalBERT'\n",
    "tokenizer = AutoTokenizer.from_pretrained(model_ckpt, problem_type=\"multi-label-classification\")"
   ]
  },
  {
   "cell_type": "code",
   "execution_count": 14,
   "metadata": {},
   "outputs": [],
   "source": [
    "def tokenize_and_encode(examples):\n",
    "    return tokenizer(examples[\"SYMPTOMS\"], truncation=True)"
   ]
  },
  {
   "cell_type": "code",
   "execution_count": 15,
   "metadata": {},
   "outputs": [
    {
     "data": {
      "text/plain": [
       "DatasetDict({\n",
       "    train: Dataset({\n",
       "        features: ['labels', 'input_ids', 'attention_mask'],\n",
       "        num_rows: 1088\n",
       "    })\n",
       "    valid: Dataset({\n",
       "        features: ['labels', 'input_ids', 'attention_mask'],\n",
       "        num_rows: 136\n",
       "    })\n",
       "    test: Dataset({\n",
       "        features: ['labels', 'input_ids', 'attention_mask'],\n",
       "        num_rows: 136\n",
       "    })\n",
       "})"
      ]
     },
     "execution_count": 15,
     "metadata": {},
     "output_type": "execute_result"
    }
   ],
   "source": [
    "cols = dataset[\"train\"].column_names\n",
    "cols.remove(\"labels\")\n",
    "ds_enc = dataset.map(tokenize_and_encode, batched=True, remove_columns=cols)\n",
    "ds_enc"
   ]
  },
  {
   "cell_type": "code",
   "execution_count": 16,
   "metadata": {},
   "outputs": [
    {
     "data": {
      "text/plain": [
       "[1, 0, 0, 0, 0, 0, 0, 0, 0, 0]"
      ]
     },
     "execution_count": 16,
     "metadata": {},
     "output_type": "execute_result"
    }
   ],
   "source": [
    "ds_enc['train']['labels'][0]"
   ]
  },
  {
   "cell_type": "code",
   "execution_count": 17,
   "metadata": {},
   "outputs": [],
   "source": [
    "ds_enc.set_format(\"torch\")\n",
    "ds_enc = (ds_enc.map(lambda x : {\"float_labels\": x[\"labels\"].to(torch.float)}, remove_columns=[\"labels\"]).rename_column(\"float_labels\", \"labels\"))"
   ]
  },
  {
   "cell_type": "code",
   "execution_count": 18,
   "metadata": {},
   "outputs": [
    {
     "name": "stderr",
     "output_type": "stream",
     "text": [
      "c:\\Users\\KHYLE MATTHEW\\AppData\\Local\\Programs\\Python\\Python310\\lib\\site-packages\\torch\\_utils.py:831: UserWarning: TypedStorage is deprecated. It will be removed in the future and UntypedStorage will be the only storage class. This should only matter to you if you are using storages directly.  To access UntypedStorage directly, use tensor.untyped_storage() instead of tensor.storage()\n",
      "  return self.fget.__get__(instance, owner)()\n",
      "Some weights of DistilBertForSequenceClassification were not initialized from the model checkpoint at medicalai/ClinicalBERT and are newly initialized: ['classifier.bias', 'classifier.weight', 'pre_classifier.bias', 'pre_classifier.weight']\n",
      "You should probably TRAIN this model on a down-stream task to be able to use it for predictions and inference.\n"
     ]
    }
   ],
   "source": [
    "num_labels = 10\n",
    "model = AutoModelForSequenceClassification.from_pretrained(model_ckpt, num_labels=num_labels, problem_type='multi_label_classification').to('cpu')"
   ]
  },
  {
   "cell_type": "code",
   "execution_count": 19,
   "metadata": {},
   "outputs": [
    {
     "data": {
      "text/plain": [
       "{'input_ids': tensor([   101,    177,  17367,    169, 108016,  10415,  10142,  16600,  17505,\n",
       "          10107,    102]),\n",
       " 'attention_mask': tensor([1, 1, 1, 1, 1, 1, 1, 1, 1, 1, 1]),\n",
       " 'labels': tensor([1., 0., 0., 0., 0., 0., 0., 0., 0., 0.])}"
      ]
     },
     "execution_count": 19,
     "metadata": {},
     "output_type": "execute_result"
    }
   ],
   "source": [
    "ds_enc[\"train\"][0]"
   ]
  },
  {
   "cell_type": "markdown",
   "metadata": {},
   "source": [
    "Edit Epochs Below if Needed"
   ]
  },
  {
   "cell_type": "code",
   "execution_count": 20,
   "metadata": {},
   "outputs": [],
   "source": [
    "args = TrainingArguments('/kaggle/working/', evaluation_strategy=\"epoch\", num_train_epochs=5)"
   ]
  },
  {
   "cell_type": "code",
   "execution_count": 21,
   "metadata": {},
   "outputs": [],
   "source": [
    "trainer = Trainer(model=model, args=args, train_dataset=ds_enc[\"train\"], eval_dataset=ds_enc[\"test\"], tokenizer=tokenizer)"
   ]
  },
  {
   "cell_type": "code",
   "execution_count": 22,
   "metadata": {},
   "outputs": [
    {
     "name": "stderr",
     "output_type": "stream",
     "text": [
      "                                                 \n",
      " 20%|██        | 136/680 [04:20<16:27,  1.81s/it]"
     ]
    },
    {
     "name": "stdout",
     "output_type": "stream",
     "text": [
      "{'eval_loss': 0.3053303360939026, 'eval_runtime': 2.258, 'eval_samples_per_second': 60.231, 'eval_steps_per_second': 7.529, 'epoch': 1.0}\n"
     ]
    },
    {
     "name": "stderr",
     "output_type": "stream",
     "text": [
      "                                                 \n",
      " 40%|████      | 272/680 [09:05<12:57,  1.91s/it]"
     ]
    },
    {
     "name": "stdout",
     "output_type": "stream",
     "text": [
      "{'eval_loss': 0.12252853810787201, 'eval_runtime': 2.2839, 'eval_samples_per_second': 59.547, 'eval_steps_per_second': 7.443, 'epoch': 2.0}\n"
     ]
    },
    {
     "name": "stderr",
     "output_type": "stream",
     "text": [
      "                                                 \n",
      " 60%|██████    | 408/680 [13:34<09:14,  2.04s/it]"
     ]
    },
    {
     "name": "stdout",
     "output_type": "stream",
     "text": [
      "{'eval_loss': 0.06379109621047974, 'eval_runtime': 2.4016, 'eval_samples_per_second': 56.629, 'eval_steps_per_second': 7.079, 'epoch': 3.0}\n"
     ]
    },
    {
     "name": "stderr",
     "output_type": "stream",
     "text": [
      " 74%|███████▎  | 500/680 [17:01<07:17,  2.43s/it]Checkpoint destination directory /kaggle/working/checkpoint-500 already exists and is non-empty.Saving will proceed but saved results may be invalid.\n"
     ]
    },
    {
     "name": "stdout",
     "output_type": "stream",
     "text": [
      "{'loss': 0.2073, 'learning_rate': 1.323529411764706e-05, 'epoch': 3.68}\n"
     ]
    },
    {
     "name": "stderr",
     "output_type": "stream",
     "text": [
      "                                                 \n",
      " 80%|████████  | 544/680 [18:54<05:43,  2.52s/it]"
     ]
    },
    {
     "name": "stdout",
     "output_type": "stream",
     "text": [
      "{'eval_loss': 0.0442207008600235, 'eval_runtime': 1.6437, 'eval_samples_per_second': 82.741, 'eval_steps_per_second': 10.343, 'epoch': 4.0}\n"
     ]
    },
    {
     "name": "stderr",
     "output_type": "stream",
     "text": [
      "                                                 \n",
      "100%|██████████| 680/680 [23:25<00:00,  2.07s/it]"
     ]
    },
    {
     "name": "stdout",
     "output_type": "stream",
     "text": [
      "{'eval_loss': 0.03903823345899582, 'eval_runtime': 2.2677, 'eval_samples_per_second': 59.974, 'eval_steps_per_second': 7.497, 'epoch': 5.0}\n",
      "{'train_runtime': 1405.0622, 'train_samples_per_second': 3.872, 'train_steps_per_second': 0.484, 'train_loss': 0.16459316085366643, 'epoch': 5.0}\n"
     ]
    },
    {
     "name": "stderr",
     "output_type": "stream",
     "text": [
      "\n"
     ]
    },
    {
     "data": {
      "text/plain": [
       "TrainOutput(global_step=680, training_loss=0.16459316085366643, metrics={'train_runtime': 1405.0622, 'train_samples_per_second': 3.872, 'train_steps_per_second': 0.484, 'train_loss': 0.16459316085366643, 'epoch': 5.0})"
      ]
     },
     "execution_count": 22,
     "metadata": {},
     "output_type": "execute_result"
    }
   ],
   "source": [
    "trainer.train()"
   ]
  },
  {
   "cell_type": "code",
   "execution_count": 23,
   "metadata": {},
   "outputs": [
    {
     "name": "stderr",
     "output_type": "stream",
     "text": [
      "  0%|          | 0/17 [00:00<?, ?it/s]"
     ]
    },
    {
     "name": "stderr",
     "output_type": "stream",
     "text": [
      "100%|██████████| 17/17 [00:02<00:00,  7.04it/s]\n"
     ]
    },
    {
     "data": {
      "text/plain": [
       "{'eval_loss': 0.03903823345899582,\n",
       " 'eval_runtime': 2.5804,\n",
       " 'eval_samples_per_second': 52.706,\n",
       " 'eval_steps_per_second': 6.588,\n",
       " 'epoch': 5.0}"
      ]
     },
     "execution_count": 23,
     "metadata": {},
     "output_type": "execute_result"
    }
   ],
   "source": [
    "trainer.evaluate()"
   ]
  },
  {
   "cell_type": "code",
   "execution_count": 24,
   "metadata": {},
   "outputs": [
    {
     "data": {
      "text/plain": [
       "{'SYMPTOMS': 'Herbal for bloating',\n",
       " 'JACKFRUIT': 0,\n",
       " 'SAMBONG': 0,\n",
       " 'LEMON': 0,\n",
       " 'JASMINE': 0,\n",
       " 'MANGO': 0,\n",
       " 'MINT': 1,\n",
       " 'AMPALAYA': 0,\n",
       " 'MALUNGGAY': 0,\n",
       " 'GUAVA': 0,\n",
       " 'LAGUNDI': 0,\n",
       " 'labels': [0, 0, 0, 0, 0, 1, 0, 0, 0, 0]}"
      ]
     },
     "execution_count": 24,
     "metadata": {},
     "output_type": "execute_result"
    }
   ],
   "source": [
    "dataset['train'][420]"
   ]
  },
  {
   "cell_type": "markdown",
   "metadata": {},
   "source": [
    "FOR PREDICTIONS"
   ]
  },
  {
   "cell_type": "code",
   "execution_count": 25,
   "metadata": {},
   "outputs": [
    {
     "data": {
      "text/plain": [
       "torch.Size([1, 10])"
      ]
     },
     "execution_count": 25,
     "metadata": {},
     "output_type": "execute_result"
    }
   ],
   "source": [
    "input_text = 'Are there herbals I can brew for tea'\n",
    "encoding = tokenizer(input_text, return_tensors=\"pt\")\n",
    "encoding = {k: v.to(trainer.model.device) for k,v in encoding.items()}\n",
    "outputs = trainer.model(**encoding)\n",
    "logits = outputs.logits\n",
    "logits.shape"
   ]
  },
  {
   "cell_type": "code",
   "execution_count": 26,
   "metadata": {},
   "outputs": [
    {
     "name": "stdout",
     "output_type": "stream",
     "text": [
      "['SAMBONG', 'LEMON', 'JASMINE', 'MALUNGGAY', 'GUAVA']\n"
     ]
    }
   ],
   "source": [
    "#Use Sigmoid and RoundUp\n",
    "sigmoid = torch.nn.Sigmoid()\n",
    "probs = sigmoid(logits.squeeze().cpu())\n",
    "predictions = np.zeros(probs.shape)\n",
    "predictions[np.where(probs >= 0.5)] = 1\n",
    "\n",
    "#Convert Predicted Values into Actual Herbal Name\n",
    "ans_cols = cols[1:]\n",
    "predicted_labels = [ans_cols[idx] for idx, label in enumerate(predictions) if label == 1.0]\n",
    "print(predicted_labels)"
   ]
  },
  {
   "cell_type": "markdown",
   "metadata": {},
   "source": [
    "FORM ANOTHER ONE"
   ]
  },
  {
   "cell_type": "code",
   "execution_count": 27,
   "metadata": {},
   "outputs": [],
   "source": [
    "from sklearn.metrics import f1_score, roc_auc_score, accuracy_score\n",
    "from transformers import EvalPrediction\n",
    "import torch\n",
    "\n",
    "def multi_label_metrics(predictions, labels, threshold=0.5):\n",
    "    # first, apply sigmoid on predictions which are of shape (batch_size, num_labels)\n",
    "    sigmoid = torch.nn.Sigmoid()\n",
    "    print(\"sigmoid\",sigmoid)\n",
    "    probs = sigmoid(torch.Tensor(predictions))\n",
    "    print(\"probs\",probs)\n",
    "    # next, use threshold to turn them into integer predictions\n",
    "    y_pred = np.zeros(probs.shape)\n",
    "    print(\"y_pred\",y_pred)\n",
    "    y_pred[np.where(probs >= threshold)] = 1\n",
    "    print(\"y_pred_1\",y_pred)\n",
    "    # finally, compute metrics\n",
    "    y_true = labels\n",
    "    f1_micro_average = f1_score(y_true=y_true, y_pred=y_pred, average='micro')\n",
    "    roc_auc = roc_auc_score(y_true, y_pred, average = 'micro')\n",
    "    accuracy = accuracy_score(y_true, y_pred)\n",
    "    # return as dictionary\n",
    "    metrics = {'f1': f1_micro_average,\n",
    "               'roc_auc': roc_auc,\n",
    "               'accuracy': accuracy}\n",
    "    return metrics\n",
    "\n",
    "def compute_metrics(p: EvalPrediction):\n",
    "    preds = p.predictions[0] if isinstance(p.predictions, \n",
    "            tuple) else p.predictions\n",
    "    result = multi_label_metrics(\n",
    "        predictions=preds, \n",
    "        labels=p.label_ids)\n",
    "    return result"
   ]
  },
  {
   "cell_type": "code",
   "execution_count": 28,
   "metadata": {},
   "outputs": [
    {
     "data": {
      "text/plain": [
       "tensor([   101,    177,  17367,    169, 108016,  10415,  10142,  16600,  17505,\n",
       "         10107,    102])"
      ]
     },
     "execution_count": 28,
     "metadata": {},
     "output_type": "execute_result"
    }
   ],
   "source": [
    "ds_enc['train']['input_ids'][0]"
   ]
  },
  {
   "cell_type": "code",
   "execution_count": 29,
   "metadata": {},
   "outputs": [
    {
     "data": {
      "text/plain": [
       "tensor([[   101,    177,  17367,    169, 108016,  10415,  10142,  16600,  17505,\n",
       "          10107,    102]])"
      ]
     },
     "execution_count": 29,
     "metadata": {},
     "output_type": "execute_result"
    }
   ],
   "source": [
    "ds_enc['train']['input_ids'][0].unsqueeze(0)"
   ]
  },
  {
   "cell_type": "code",
   "execution_count": 30,
   "metadata": {},
   "outputs": [
    {
     "data": {
      "text/plain": [
       "DistilBertForSequenceClassification(\n",
       "  (distilbert): DistilBertModel(\n",
       "    (embeddings): Embeddings(\n",
       "      (word_embeddings): Embedding(119547, 768, padding_idx=0)\n",
       "      (position_embeddings): Embedding(512, 768)\n",
       "      (LayerNorm): LayerNorm((768,), eps=1e-12, elementwise_affine=True)\n",
       "      (dropout): Dropout(p=0.1, inplace=False)\n",
       "    )\n",
       "    (transformer): Transformer(\n",
       "      (layer): ModuleList(\n",
       "        (0-5): 6 x TransformerBlock(\n",
       "          (attention): MultiHeadSelfAttention(\n",
       "            (dropout): Dropout(p=0.1, inplace=False)\n",
       "            (q_lin): Linear(in_features=768, out_features=768, bias=True)\n",
       "            (k_lin): Linear(in_features=768, out_features=768, bias=True)\n",
       "            (v_lin): Linear(in_features=768, out_features=768, bias=True)\n",
       "            (out_lin): Linear(in_features=768, out_features=768, bias=True)\n",
       "          )\n",
       "          (sa_layer_norm): LayerNorm((768,), eps=1e-12, elementwise_affine=True)\n",
       "          (ffn): FFN(\n",
       "            (dropout): Dropout(p=0.1, inplace=False)\n",
       "            (lin1): Linear(in_features=768, out_features=3072, bias=True)\n",
       "            (lin2): Linear(in_features=3072, out_features=768, bias=True)\n",
       "            (activation): GELUActivation()\n",
       "          )\n",
       "          (output_layer_norm): LayerNorm((768,), eps=1e-12, elementwise_affine=True)\n",
       "        )\n",
       "      )\n",
       "    )\n",
       "  )\n",
       "  (pre_classifier): Linear(in_features=768, out_features=768, bias=True)\n",
       "  (classifier): Linear(in_features=768, out_features=10, bias=True)\n",
       "  (dropout): Dropout(p=0.2, inplace=False)\n",
       ")"
      ]
     },
     "execution_count": 30,
     "metadata": {},
     "output_type": "execute_result"
    }
   ],
   "source": [
    "model"
   ]
  },
  {
   "cell_type": "code",
   "execution_count": 31,
   "metadata": {},
   "outputs": [
    {
     "data": {
      "text/plain": [
       "DistilBertTokenizerFast(name_or_path='medicalai/ClinicalBERT', vocab_size=119547, model_max_length=1000000000000000019884624838656, is_fast=True, padding_side='right', truncation_side='right', special_tokens={'unk_token': '[UNK]', 'sep_token': '[SEP]', 'pad_token': '[PAD]', 'cls_token': '[CLS]', 'mask_token': '[MASK]'}, clean_up_tokenization_spaces=True),  added_tokens_decoder={\n",
       "\t0: AddedToken(\"[PAD]\", rstrip=False, lstrip=False, single_word=False, normalized=False, special=True),\n",
       "\t100: AddedToken(\"[UNK]\", rstrip=False, lstrip=False, single_word=False, normalized=False, special=True),\n",
       "\t101: AddedToken(\"[CLS]\", rstrip=False, lstrip=False, single_word=False, normalized=False, special=True),\n",
       "\t102: AddedToken(\"[SEP]\", rstrip=False, lstrip=False, single_word=False, normalized=False, special=True),\n",
       "\t103: AddedToken(\"[MASK]\", rstrip=False, lstrip=False, single_word=False, normalized=False, special=True),\n",
       "}"
      ]
     },
     "execution_count": 31,
     "metadata": {},
     "output_type": "execute_result"
    }
   ],
   "source": [
    "tokenizer"
   ]
  },
  {
   "cell_type": "code",
   "execution_count": 32,
   "metadata": {},
   "outputs": [
    {
     "data": {
      "text/plain": [
       "SequenceClassifierOutput(loss=tensor(0.0256, grad_fn=<BinaryCrossEntropyWithLogitsBackward0>), logits=tensor([[ 3.1644, -3.5153, -3.8399, -3.3947, -3.4720, -5.2633, -3.3614, -3.1363,\n",
       "         -4.5567, -4.8522]], grad_fn=<AddmmBackward0>), hidden_states=None, attentions=None)"
      ]
     },
     "execution_count": 32,
     "metadata": {},
     "output_type": "execute_result"
    }
   ],
   "source": [
    "# Set Forward Pass\n",
    "outputs = model(input_ids=ds_enc['train']['input_ids'][0].unsqueeze(0).to('cpu'),\n",
    "                labels=ds_enc['train'][0]['labels'].unsqueeze(0).to('cpu'))\n",
    "outputs"
   ]
  },
  {
   "cell_type": "code",
   "execution_count": 33,
   "metadata": {},
   "outputs": [],
   "source": [
    "trainer = Trainer(\n",
    "    model,\n",
    "    args,\n",
    "    train_dataset=ds_enc[\"train\"],\n",
    "    eval_dataset=ds_enc[\"test\"],\n",
    "    tokenizer=tokenizer,\n",
    "    compute_metrics=compute_metrics\n",
    ")"
   ]
  },
  {
   "cell_type": "code",
   "execution_count": 34,
   "metadata": {},
   "outputs": [
    {
     "name": "stderr",
     "output_type": "stream",
     "text": [
      "  0%|          | 0/680 [00:00<?, ?it/s]"
     ]
    },
    {
     "name": "stderr",
     "output_type": "stream",
     "text": [
      " 20%|██        | 136/680 [05:24<21:41,  2.39s/it]\n",
      " 20%|██        | 136/680 [05:26<21:41,  2.39s/it]"
     ]
    },
    {
     "name": "stdout",
     "output_type": "stream",
     "text": [
      "sigmoid Sigmoid()\n",
      "probs tensor([[5.9173e-02, 9.3240e-01, 5.4493e-02,  ..., 7.1827e-01, 8.7019e-01,\n",
      "         4.1726e-02],\n",
      "        [1.1489e-03, 4.5832e-03, 2.4644e-03,  ..., 3.0459e-03, 2.5443e-03,\n",
      "         2.6859e-03],\n",
      "        [8.7004e-03, 2.6035e-03, 7.2895e-03,  ..., 9.4709e-03, 3.0662e-03,\n",
      "         1.6471e-03],\n",
      "        ...,\n",
      "        [1.3766e-03, 9.9448e-01, 2.6341e-03,  ..., 2.6283e-04, 8.8918e-04,\n",
      "         2.0239e-03],\n",
      "        [2.4071e-02, 7.1208e-03, 1.7303e-02,  ..., 1.6787e-02, 1.0361e-02,\n",
      "         1.4279e-03],\n",
      "        [4.4966e-03, 8.7232e-03, 3.9154e-03,  ..., 3.1982e-03, 5.4552e-03,\n",
      "         2.8682e-03]])\n",
      "y_pred [[0. 0. 0. ... 0. 0. 0.]\n",
      " [0. 0. 0. ... 0. 0. 0.]\n",
      " [0. 0. 0. ... 0. 0. 0.]\n",
      " ...\n",
      " [0. 0. 0. ... 0. 0. 0.]\n",
      " [0. 0. 0. ... 0. 0. 0.]\n",
      " [0. 0. 0. ... 0. 0. 0.]]\n",
      "y_pred_1 [[0. 1. 0. ... 1. 1. 0.]\n",
      " [0. 0. 0. ... 0. 0. 0.]\n",
      " [0. 0. 0. ... 0. 0. 0.]\n",
      " ...\n",
      " [0. 1. 0. ... 0. 0. 0.]\n",
      " [0. 0. 0. ... 0. 0. 0.]\n",
      " [0. 0. 0. ... 0. 0. 0.]]\n",
      "{'eval_loss': 0.022337954491376877, 'eval_f1': 0.9833729216152018, 'eval_roc_auc': 0.9930432866781123, 'eval_accuracy': 0.9852941176470589, 'eval_runtime': 2.2365, 'eval_samples_per_second': 60.809, 'eval_steps_per_second': 7.601, 'epoch': 1.0}\n"
     ]
    },
    {
     "name": "stderr",
     "output_type": "stream",
     "text": [
      " 40%|████      | 272/680 [09:43<12:28,  1.83s/it]\n",
      " 40%|████      | 272/680 [09:45<12:28,  1.83s/it]"
     ]
    },
    {
     "name": "stdout",
     "output_type": "stream",
     "text": [
      "sigmoid Sigmoid()\n",
      "probs tensor([[9.2686e-02, 9.1928e-01, 3.5328e-02,  ..., 9.0161e-01, 9.2714e-01,\n",
      "         3.9109e-02],\n",
      "        [5.1849e-04, 7.0650e-03, 1.6342e-03,  ..., 9.5279e-04, 1.8164e-03,\n",
      "         1.9119e-03],\n",
      "        [4.2330e-03, 2.3978e-03, 3.4701e-03,  ..., 1.8656e-03, 2.4611e-03,\n",
      "         1.3561e-03],\n",
      "        ...,\n",
      "        [9.4216e-04, 9.9890e-01, 1.0678e-03,  ..., 1.5747e-04, 4.3586e-04,\n",
      "         3.4060e-03],\n",
      "        [5.2788e-03, 5.6621e-03, 9.9387e-03,  ..., 1.2311e-02, 3.2367e-03,\n",
      "         1.5755e-03],\n",
      "        [2.2460e-03, 3.5554e-03, 4.7996e-03,  ..., 5.8995e-03, 5.0400e-03,\n",
      "         4.7685e-03]])\n",
      "y_pred [[0. 0. 0. ... 0. 0. 0.]\n",
      " [0. 0. 0. ... 0. 0. 0.]\n",
      " [0. 0. 0. ... 0. 0. 0.]\n",
      " ...\n",
      " [0. 0. 0. ... 0. 0. 0.]\n",
      " [0. 0. 0. ... 0. 0. 0.]\n",
      " [0. 0. 0. ... 0. 0. 0.]]\n",
      "y_pred_1 [[0. 1. 0. ... 1. 1. 0.]\n",
      " [0. 0. 0. ... 0. 0. 0.]\n",
      " [0. 0. 0. ... 0. 0. 0.]\n",
      " ...\n",
      " [0. 1. 0. ... 0. 0. 0.]\n",
      " [0. 0. 0. ... 0. 0. 0.]\n",
      " [0. 0. 0. ... 0. 0. 0.]]\n",
      "{'eval_loss': 0.016285326331853867, 'eval_f1': 0.9881235154394298, 'eval_roc_auc': 0.9958700360410543, 'eval_accuracy': 0.9926470588235294, 'eval_runtime': 2.1423, 'eval_samples_per_second': 63.482, 'eval_steps_per_second': 7.935, 'epoch': 2.0}\n"
     ]
    },
    {
     "name": "stderr",
     "output_type": "stream",
     "text": [
      " 60%|██████    | 408/680 [14:08<08:56,  1.97s/it]\n",
      " 60%|██████    | 408/680 [14:10<08:56,  1.97s/it]"
     ]
    },
    {
     "name": "stdout",
     "output_type": "stream",
     "text": [
      "sigmoid Sigmoid()\n",
      "probs tensor([[3.2347e-02, 9.4569e-01, 2.8016e-02,  ..., 9.5058e-01, 9.4128e-01,\n",
      "         2.8061e-02],\n",
      "        [4.4083e-04, 2.9096e-03, 8.0028e-04,  ..., 1.0486e-03, 1.8372e-03,\n",
      "         1.7197e-03],\n",
      "        [2.8095e-03, 1.0561e-03, 1.2648e-03,  ..., 1.9643e-03, 1.5004e-03,\n",
      "         5.5536e-04],\n",
      "        ...,\n",
      "        [3.5562e-04, 9.9903e-01, 1.2828e-03,  ..., 1.1223e-04, 3.9790e-04,\n",
      "         9.7926e-04],\n",
      "        [4.3161e-03, 2.9930e-03, 3.4580e-03,  ..., 4.5541e-03, 2.4901e-03,\n",
      "         7.4905e-04],\n",
      "        [1.6517e-03, 2.3489e-03, 2.0419e-03,  ..., 2.8269e-03, 2.0227e-03,\n",
      "         2.3203e-03]])\n",
      "y_pred [[0. 0. 0. ... 0. 0. 0.]\n",
      " [0. 0. 0. ... 0. 0. 0.]\n",
      " [0. 0. 0. ... 0. 0. 0.]\n",
      " ...\n",
      " [0. 0. 0. ... 0. 0. 0.]\n",
      " [0. 0. 0. ... 0. 0. 0.]\n",
      " [0. 0. 0. ... 0. 0. 0.]]\n",
      "y_pred_1 [[0. 1. 0. ... 1. 1. 0.]\n",
      " [0. 0. 0. ... 0. 0. 0.]\n",
      " [0. 0. 0. ... 0. 0. 0.]\n",
      " ...\n",
      " [0. 1. 0. ... 0. 0. 0.]\n",
      " [0. 0. 0. ... 0. 0. 0.]\n",
      " [0. 0. 0. ... 0. 0. 0.]]\n",
      "{'eval_loss': 0.013721118681132793, 'eval_f1': 0.9833729216152018, 'eval_roc_auc': 0.9930432866781123, 'eval_accuracy': 0.9852941176470589, 'eval_runtime': 2.2417, 'eval_samples_per_second': 60.669, 'eval_steps_per_second': 7.584, 'epoch': 3.0}\n"
     ]
    },
    {
     "name": "stderr",
     "output_type": "stream",
     "text": [
      " 74%|███████▎  | 500/680 [17:14<05:51,  1.95s/it]Checkpoint destination directory /kaggle/working/checkpoint-500 already exists and is non-empty.Saving will proceed but saved results may be invalid.\n"
     ]
    },
    {
     "name": "stdout",
     "output_type": "stream",
     "text": [
      "{'loss': 0.0216, 'learning_rate': 1.323529411764706e-05, 'epoch': 3.68}\n"
     ]
    },
    {
     "name": "stderr",
     "output_type": "stream",
     "text": [
      " 80%|████████  | 544/680 [18:45<04:35,  2.03s/it]\n",
      " 80%|████████  | 544/680 [18:47<04:35,  2.03s/it]"
     ]
    },
    {
     "name": "stdout",
     "output_type": "stream",
     "text": [
      "sigmoid Sigmoid()\n",
      "probs tensor([[3.5900e-02, 9.3508e-01, 2.6729e-02,  ..., 9.5932e-01, 9.4892e-01,\n",
      "         1.9854e-02],\n",
      "        [3.2704e-04, 2.2199e-03, 8.1387e-04,  ..., 7.4144e-04, 1.2766e-03,\n",
      "         1.5855e-03],\n",
      "        [2.2147e-03, 1.5784e-03, 1.8158e-03,  ..., 1.3827e-03, 1.9746e-03,\n",
      "         7.2728e-04],\n",
      "        ...,\n",
      "        [3.1269e-04, 9.9925e-01, 1.4349e-03,  ..., 9.1020e-05, 2.5273e-04,\n",
      "         5.7125e-04],\n",
      "        [2.5818e-03, 3.4903e-03, 4.9799e-03,  ..., 3.4977e-03, 2.0146e-03,\n",
      "         6.6423e-04],\n",
      "        [1.1704e-03, 2.3162e-03, 2.9334e-03,  ..., 2.1558e-03, 1.7144e-03,\n",
      "         2.1984e-03]])\n",
      "y_pred [[0. 0. 0. ... 0. 0. 0.]\n",
      " [0. 0. 0. ... 0. 0. 0.]\n",
      " [0. 0. 0. ... 0. 0. 0.]\n",
      " ...\n",
      " [0. 0. 0. ... 0. 0. 0.]\n",
      " [0. 0. 0. ... 0. 0. 0.]\n",
      " [0. 0. 0. ... 0. 0. 0.]]\n",
      "y_pred_1 [[0. 1. 0. ... 1. 1. 0.]\n",
      " [0. 0. 0. ... 0. 0. 0.]\n",
      " [0. 0. 0. ... 0. 0. 0.]\n",
      " ...\n",
      " [0. 1. 0. ... 0. 0. 0.]\n",
      " [0. 0. 0. ... 0. 0. 0.]\n",
      " [0. 0. 0. ... 0. 0. 0.]]\n",
      "{'eval_loss': 0.012016482651233673, 'eval_f1': 0.9833729216152018, 'eval_roc_auc': 0.9930432866781123, 'eval_accuracy': 0.9852941176470589, 'eval_runtime': 2.5463, 'eval_samples_per_second': 53.412, 'eval_steps_per_second': 6.676, 'epoch': 4.0}\n"
     ]
    },
    {
     "name": "stderr",
     "output_type": "stream",
     "text": [
      "100%|██████████| 680/680 [23:24<00:00,  1.98s/it]\n",
      "100%|██████████| 680/680 [23:27<00:00,  2.07s/it]"
     ]
    },
    {
     "name": "stdout",
     "output_type": "stream",
     "text": [
      "sigmoid Sigmoid()\n",
      "probs tensor([[3.3371e-02, 9.5721e-01, 2.3542e-02,  ..., 9.5292e-01, 9.6057e-01,\n",
      "         2.0241e-02],\n",
      "        [3.5965e-04, 2.0868e-03, 7.5439e-04,  ..., 7.4150e-04, 1.4139e-03,\n",
      "         1.3398e-03],\n",
      "        [3.2450e-03, 1.5768e-03, 1.4693e-03,  ..., 1.5894e-03, 2.0969e-03,\n",
      "         6.2363e-04],\n",
      "        ...,\n",
      "        [3.5651e-04, 9.9952e-01, 1.5661e-03,  ..., 1.0239e-04, 3.0214e-04,\n",
      "         4.8614e-04],\n",
      "        [3.1307e-03, 3.7804e-03, 4.7453e-03,  ..., 2.9852e-03, 2.1802e-03,\n",
      "         5.7075e-04],\n",
      "        [1.4988e-03, 2.3499e-03, 2.2758e-03,  ..., 2.0129e-03, 1.8623e-03,\n",
      "         1.9619e-03]])\n",
      "y_pred [[0. 0. 0. ... 0. 0. 0.]\n",
      " [0. 0. 0. ... 0. 0. 0.]\n",
      " [0. 0. 0. ... 0. 0. 0.]\n",
      " ...\n",
      " [0. 0. 0. ... 0. 0. 0.]\n",
      " [0. 0. 0. ... 0. 0. 0.]\n",
      " [0. 0. 0. ... 0. 0. 0.]]\n",
      "y_pred_1 [[0. 1. 0. ... 1. 1. 0.]\n",
      " [0. 0. 0. ... 0. 0. 0.]\n",
      " [0. 0. 0. ... 0. 0. 0.]\n",
      " ...\n",
      " [0. 1. 0. ... 0. 0. 0.]\n",
      " [0. 0. 0. ... 0. 0. 0.]\n",
      " [0. 0. 0. ... 0. 0. 0.]]\n",
      "{'eval_loss': 0.010787110775709152, 'eval_f1': 0.9833729216152018, 'eval_roc_auc': 0.9930432866781123, 'eval_accuracy': 0.9852941176470589, 'eval_runtime': 2.4988, 'eval_samples_per_second': 54.427, 'eval_steps_per_second': 6.803, 'epoch': 5.0}\n",
      "{'train_runtime': 1407.1225, 'train_samples_per_second': 3.866, 'train_steps_per_second': 0.483, 'train_loss': 0.018756714989157285, 'epoch': 5.0}\n"
     ]
    },
    {
     "name": "stderr",
     "output_type": "stream",
     "text": [
      "\n"
     ]
    },
    {
     "data": {
      "text/plain": [
       "TrainOutput(global_step=680, training_loss=0.018756714989157285, metrics={'train_runtime': 1407.1225, 'train_samples_per_second': 3.866, 'train_steps_per_second': 0.483, 'train_loss': 0.018756714989157285, 'epoch': 5.0})"
      ]
     },
     "execution_count": 34,
     "metadata": {},
     "output_type": "execute_result"
    }
   ],
   "source": [
    "trainer.train()"
   ]
  },
  {
   "cell_type": "code",
   "execution_count": 35,
   "metadata": {},
   "outputs": [
    {
     "name": "stderr",
     "output_type": "stream",
     "text": [
      "100%|██████████| 17/17 [00:01<00:00, 11.08it/s]"
     ]
    },
    {
     "name": "stdout",
     "output_type": "stream",
     "text": [
      "sigmoid Sigmoid()\n",
      "probs tensor([[3.3371e-02, 9.5721e-01, 2.3542e-02,  ..., 9.5292e-01, 9.6057e-01,\n",
      "         2.0241e-02],\n",
      "        [3.5965e-04, 2.0868e-03, 7.5439e-04,  ..., 7.4150e-04, 1.4139e-03,\n",
      "         1.3398e-03],\n",
      "        [3.2450e-03, 1.5768e-03, 1.4693e-03,  ..., 1.5894e-03, 2.0969e-03,\n",
      "         6.2363e-04],\n",
      "        ...,\n",
      "        [3.5651e-04, 9.9952e-01, 1.5661e-03,  ..., 1.0239e-04, 3.0214e-04,\n",
      "         4.8614e-04],\n",
      "        [3.1307e-03, 3.7804e-03, 4.7453e-03,  ..., 2.9852e-03, 2.1802e-03,\n",
      "         5.7075e-04],\n",
      "        [1.4988e-03, 2.3499e-03, 2.2758e-03,  ..., 2.0129e-03, 1.8623e-03,\n",
      "         1.9619e-03]])\n",
      "y_pred [[0. 0. 0. ... 0. 0. 0.]\n",
      " [0. 0. 0. ... 0. 0. 0.]\n",
      " [0. 0. 0. ... 0. 0. 0.]\n",
      " ...\n",
      " [0. 0. 0. ... 0. 0. 0.]\n",
      " [0. 0. 0. ... 0. 0. 0.]\n",
      " [0. 0. 0. ... 0. 0. 0.]]\n",
      "y_pred_1 [[0. 1. 0. ... 1. 1. 0.]\n",
      " [0. 0. 0. ... 0. 0. 0.]\n",
      " [0. 0. 0. ... 0. 0. 0.]\n",
      " ...\n",
      " [0. 1. 0. ... 0. 0. 0.]\n",
      " [0. 0. 0. ... 0. 0. 0.]\n",
      " [0. 0. 0. ... 0. 0. 0.]]\n"
     ]
    },
    {
     "name": "stderr",
     "output_type": "stream",
     "text": [
      "\n"
     ]
    },
    {
     "data": {
      "text/plain": [
       "{'eval_loss': 0.010787110775709152,\n",
       " 'eval_f1': 0.9833729216152018,\n",
       " 'eval_roc_auc': 0.9930432866781123,\n",
       " 'eval_accuracy': 0.9852941176470589,\n",
       " 'eval_runtime': 1.7184,\n",
       " 'eval_samples_per_second': 79.145,\n",
       " 'eval_steps_per_second': 9.893,\n",
       " 'epoch': 5.0}"
      ]
     },
     "execution_count": 35,
     "metadata": {},
     "output_type": "execute_result"
    }
   ],
   "source": [
    "trainer.evaluate()"
   ]
  },
  {
   "cell_type": "markdown",
   "metadata": {},
   "source": [
    "# TRYING THE MODEL"
   ]
  },
  {
   "cell_type": "code",
   "execution_count": 36,
   "metadata": {},
   "outputs": [
    {
     "name": "stdout",
     "output_type": "stream",
     "text": [
      "['JACKFRUIT', 'LEMON', 'MANGO', 'MALUNGGAY']\n"
     ]
    }
   ],
   "source": [
    "text = \"What herbal can I use that is rich in Vitamin C\"\n",
    "encoding = tokenizer(text, return_tensors=\"pt\")\n",
    "encoding = {k: v.to(trainer.model.device) for k,v in encoding.items()}\n",
    "\n",
    "outputs = trainer.model(**encoding)\n",
    "logits = outputs.logits\n",
    "# apply sigmoid + threshold\n",
    "sigmoid = torch.nn.Sigmoid()\n",
    "probs = sigmoid(logits.squeeze().cpu())\n",
    "predictions = np.zeros(probs.shape)\n",
    "predictions[np.where(probs >= 0.5)] = 1\n",
    "predictions\n",
    "# turn predicted id's into actual label names\n",
    "ans_cols = cols[1:]\n",
    "predicted_labels = [ans_cols[idx] for idx, label in enumerate(predictions) if label == 1.0]\n",
    "print(predicted_labels)"
   ]
  },
  {
   "cell_type": "code",
   "execution_count": 37,
   "metadata": {},
   "outputs": [],
   "source": [
    "#SAVE THE NLP MODEL\n",
    "\n",
    "trainer.save_model(\"./herbal_nlpMultilabelClassModel\")"
   ]
  },
  {
   "cell_type": "code",
   "execution_count": 46,
   "metadata": {},
   "outputs": [
    {
     "name": "stdout",
     "output_type": "stream",
     "text": [
      "Token will not been saved to git credential helper. Pass `add_to_git_credential=True` if you want to set the git credential as well.\n",
      "Token is valid (permission: write).\n",
      "Your token has been saved to C:\\Users\\KHYLE MATTHEW\\.cache\\huggingface\\token\n",
      "Login successful\n"
     ]
    },
    {
     "name": "stderr",
     "output_type": "stream",
     "text": [
      "model.safetensors:   0%|          | 0.00/541M [00:00<?, ?B/s]\n",
      "\n",
      "\n",
      "\u001b[A\u001b[A\u001b[A\n",
      "\n",
      "\u001b[A\u001b[A\n",
      "\u001b[A\n",
      "\n",
      "\n",
      "\n",
      "model.safetensors:   0%|          | 8.19k/541M [00:00<4:34:14, 32.9kB/s]\n",
      "\n",
      "\n",
      "model.safetensors:   0%|          | 81.9k/541M [00:00<42:29, 212kB/s]   \n",
      "\n",
      "\u001b[A\u001b[A\n",
      "events.out.tfevents.1706877101.LAPTOP-KMPG041102.944.2: 100%|██████████| 7.38k/7.38k [00:00<00:00, 16.7kB/s]\n",
      "events.out.tfevents.1706866949.LAPTOP-KMPG041102.8084.0: 100%|██████████| 5.70k/5.70k [00:00<00:00, 10.7kB/s]\n",
      "events.out.tfevents.1706877100.LAPTOP-KMPG041102.944.1: 100%|██████████| 359/359 [00:00<00:00, 620B/s]  \n",
      "events.out.tfevents.1706875693.LAPTOP-KMPG041102.944.0: 100%|██████████| 6.59k/6.59k [00:00<00:00, 11.0kB/s]\n",
      "model.safetensors:   1%|          | 3.24M/541M [00:01<01:46, 5.06MB/s]\n",
      "events.out.tfevents.1706879275.LAPTOP-KMPG041102.944.3: 100%|██████████| 508/508 [00:00<00:00, 1.76kB/s]\n",
      "training_args.bin: 100%|██████████| 4.73k/4.73k [00:00<00:00, 14.3kB/s]\n",
      "model.safetensors: 100%|██████████| 541M/541M [01:08<00:00, 7.90MB/s] \n",
      "\n",
      "\n",
      "\n",
      "\n",
      "Upload 7 LFS files: 100%|██████████| 7/7 [01:09<00:00,  9.86s/it]\n"
     ]
    },
    {
     "data": {
      "text/plain": [
       "CommitInfo(commit_url='https://huggingface.co/khygopole/working/commit/7ed27e379a1e768999125bc2e3cb3227aba53d3b', commit_message='khygopole/NLP_HerbalMultiLabelClassificationModel', commit_description='', oid='7ed27e379a1e768999125bc2e3cb3227aba53d3b', pr_url=None, pr_revision=None, pr_num=None)"
      ]
     },
     "execution_count": 46,
     "metadata": {},
     "output_type": "execute_result"
    }
   ],
   "source": [
    "# UPLOAD MODEL TO MY HUGGINGFACE ACCOUNT\n",
    "from huggingface_hub import login\n",
    "login(token=\"\")\n",
    "trainer.push_to_hub(\"khygopole/NLP_HerbalMultiLabelClassificationModel\")\n"
   ]
  },
  {
   "cell_type": "code",
   "execution_count": null,
   "metadata": {},
   "outputs": [],
   "source": []
  }
 ],
 "metadata": {
  "kernelspec": {
   "display_name": "Python 3",
   "language": "python",
   "name": "python3"
  },
  "language_info": {
   "codemirror_mode": {
    "name": "ipython",
    "version": 3
   },
   "file_extension": ".py",
   "mimetype": "text/x-python",
   "name": "python",
   "nbconvert_exporter": "python",
   "pygments_lexer": "ipython3",
   "version": "3.10.4"
  }
 },
 "nbformat": 4,
 "nbformat_minor": 2
}

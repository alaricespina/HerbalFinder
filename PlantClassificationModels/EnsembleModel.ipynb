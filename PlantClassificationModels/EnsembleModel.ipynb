{
 "cells": [
  {
   "cell_type": "code",
   "execution_count": 1,
   "metadata": {},
   "outputs": [],
   "source": [
    "import pandas as pd \n",
    "import cv2 \n",
    "import matplotlib.pyplot as plt \n",
    "\n",
    "from keras import Model \n",
    "from keras.layers import Input, Conv2D, AveragePooling2D, Dense, InputLayer, Flatten, MaxPooling2D\n",
    "from keras.models import Sequential\n",
    "from keras.utils import to_categorical\n",
    "\n",
    "\n",
    "import numpy as np \n",
    "\n",
    "from sklearn.datasets import load_digits\n",
    "from sklearn.model_selection import train_test_split \n",
    "from sklearn.preprocessing import LabelEncoder\n",
    "\n",
    "from MRVModels.LeNet import MRV_LeNet\n",
    "\n",
    "from tqdm import tqdm \n"
   ]
  },
  {
   "cell_type": "code",
   "execution_count": 2,
   "metadata": {},
   "outputs": [],
   "source": [
    "# loaded_arr = np.load(\"Numpy_Compressed_Dataset.npz\")\n",
    "# t_d = loaded_arr[\"train_data\"]\n",
    "# t_l = loaded_arr[\"train_label\"]\n",
    "# test_d = loaded_arr[\"test_data\"]\n",
    "# test_l = loaded_arr[\"test_label\"]\n",
    "\n",
    "loaded_arr = np.load(\"UnAugmented_Compressed_Dataset.npz\")\n",
    "_X = loaded_arr[\"raw_X\"]\n",
    "_y = loaded_arr[\"raw_y\"]\n",
    "\n",
    "le = LabelEncoder()\n",
    "_y = le.fit_transform(_y)\n",
    "_y = to_categorical(_y)\n",
    "\n",
    "X_t, X_test, y_t, y_test = train_test_split(_X, _y, test_size=0.2)\n",
    "X_train, X_valid, y_train, y_valid = train_test_split(X_t, y_t, test_size=0.2)\n"
   ]
  },
  {
   "cell_type": "code",
   "execution_count": 3,
   "metadata": {},
   "outputs": [
    {
     "data": {
      "text/plain": [
       "(4100, 64, 64, 3)"
      ]
     },
     "execution_count": 3,
     "metadata": {},
     "output_type": "execute_result"
    }
   ],
   "source": [
    "X_train.shape"
   ]
  },
  {
   "cell_type": "code",
   "execution_count": 30,
   "metadata": {},
   "outputs": [],
   "source": [
    "# # Load Dataset\n",
    "# mnist_dataset = load_digits(return_X_y=True)\n",
    "# X, y = mnist_dataset\n",
    "# X = X.reshape(-1, 8, 8, 1)\n",
    "# y = to_categorical(y)\n",
    "# X_train, X_test, y_train, y_test = train_test_split(X, y, test_size = 0.2)\n",
    "# X_train, X_valid, y_train, y_valid = train_test_split(X_train, y_train, test_size=0.1)\n",
    "\n",
    "# X_train.shape, X_valid.shape, X_test.shape"
   ]
  },
  {
   "cell_type": "markdown",
   "metadata": {},
   "source": [
    "# Le Net MRV"
   ]
  },
  {
   "cell_type": "code",
   "execution_count": 50,
   "metadata": {},
   "outputs": [],
   "source": [
    "CONV_CONSTANT = 2\n",
    "# DENSE_CONSTANT = CONV_CONSTANT * 14  \n",
    "DENSE_CONSTANT = CONV_CONSTANT * 128\n",
    "\n",
    "x_in = Input(shape=X_train.shape[1:])\n",
    "x = Conv2D(CONV_CONSTANT, (5, 5), activation=\"tanh\", padding=\"same\")(x_in)\n",
    "# x = AveragePooling2D((2, 2), 2)(x)\n",
    "# x = Conv2D(CONV_CONSTANT * 3, (5, 5), activation=\"tanh\")(x)\n",
    "# x = AveragePooling2D((2, 2), 2)(x)\n",
    "# x = Conv2D(CONV_CONSTANT * 20, (5, 5), activation=\"tanh\")(x)\n",
    "x = AveragePooling2D((2, 2), 2)(x)\n",
    "x = Conv2D(CONV_CONSTANT * 2, (5, 5), activation=\"tanh\")(x)\n",
    "x = AveragePooling2D((2, 2), 2)(x)\n",
    "x = Conv2D(CONV_CONSTANT * 4, (5, 5), activation=\"tanh\")(x)\n",
    "x = AveragePooling2D((2, 2), 2)(x)\n",
    "x = Conv2D(CONV_CONSTANT * 8, (5, 5), activation=\"tanh\")(x)\n",
    "x = Flatten()(x)\n",
    "x = Dense(DENSE_CONSTANT)(x)\n",
    "output = Dense(10, activation='softmax')(x)\n",
    "model = Model(inputs = x_in, outputs = output) \n",
    "\n",
    "model.compile(loss=\"categorical_crossentropy\",\n",
    "              optimizer = \"rmsprop\",\n",
    "              metrics = [\"accuracy\"])"
   ]
  },
  {
   "cell_type": "code",
   "execution_count": 51,
   "metadata": {},
   "outputs": [
    {
     "name": "stdout",
     "output_type": "stream",
     "text": [
      "Model: \"model_5\"\n",
      "_________________________________________________________________\n",
      " Layer (type)                Output Shape              Param #   \n",
      "=================================================================\n",
      " input_6 (InputLayer)        [(None, 64, 64, 3)]       0         \n",
      "                                                                 \n",
      " conv2d_20 (Conv2D)          (None, 64, 64, 2)         152       \n",
      "                                                                 \n",
      " average_pooling2d_15 (Avera  (None, 32, 32, 2)        0         \n",
      " gePooling2D)                                                    \n",
      "                                                                 \n",
      " conv2d_21 (Conv2D)          (None, 28, 28, 4)         204       \n",
      "                                                                 \n",
      " average_pooling2d_16 (Avera  (None, 14, 14, 4)        0         \n",
      " gePooling2D)                                                    \n",
      "                                                                 \n",
      " conv2d_22 (Conv2D)          (None, 10, 10, 8)         808       \n",
      "                                                                 \n",
      " average_pooling2d_17 (Avera  (None, 5, 5, 8)          0         \n",
      " gePooling2D)                                                    \n",
      "                                                                 \n",
      " conv2d_23 (Conv2D)          (None, 1, 1, 16)          3216      \n",
      "                                                                 \n",
      " flatten_5 (Flatten)         (None, 16)                0         \n",
      "                                                                 \n",
      " dense_10 (Dense)            (None, 256)               4352      \n",
      "                                                                 \n",
      " dense_11 (Dense)            (None, 10)                2570      \n",
      "                                                                 \n",
      "=================================================================\n",
      "Total params: 11,302\n",
      "Trainable params: 11,302\n",
      "Non-trainable params: 0\n",
      "_________________________________________________________________\n"
     ]
    }
   ],
   "source": [
    "model.summary()"
   ]
  },
  {
   "cell_type": "code",
   "execution_count": 52,
   "metadata": {},
   "outputs": [
    {
     "name": "stdout",
     "output_type": "stream",
     "text": [
      "Epoch 1/30\n",
      "137/137 [==============================] - 5s 25ms/step - loss: 2.2230 - accuracy: 0.1816 - mse: 0.0877 - val_loss: 2.1652 - val_accuracy: 0.2018 - val_mse: 0.0861\n",
      "Epoch 2/30\n",
      "137/137 [==============================] - 3s 23ms/step - loss: 2.1336 - accuracy: 0.2291 - mse: 0.0849 - val_loss: 2.1185 - val_accuracy: 0.2076 - val_mse: 0.0844\n",
      "Epoch 3/30\n",
      "137/137 [==============================] - 3s 23ms/step - loss: 2.0378 - accuracy: 0.2643 - mse: 0.0825 - val_loss: 2.0854 - val_accuracy: 0.2251 - val_mse: 0.0840\n",
      "Epoch 4/30\n",
      "137/137 [==============================] - 3s 23ms/step - loss: 1.9542 - accuracy: 0.2855 - mse: 0.0804 - val_loss: 1.9669 - val_accuracy: 0.2515 - val_mse: 0.0814\n",
      "Epoch 5/30\n",
      "137/137 [==============================] - 3s 24ms/step - loss: 1.9086 - accuracy: 0.3023 - mse: 0.0794 - val_loss: 1.9966 - val_accuracy: 0.2632 - val_mse: 0.0824\n",
      "Epoch 6/30\n",
      "137/137 [==============================] - 3s 24ms/step - loss: 1.8919 - accuracy: 0.3148 - mse: 0.0790 - val_loss: 2.2059 - val_accuracy: 0.2515 - val_mse: 0.0888\n",
      "Epoch 7/30\n",
      "137/137 [==============================] - 3s 24ms/step - loss: 1.8667 - accuracy: 0.3016 - mse: 0.0784 - val_loss: 1.9612 - val_accuracy: 0.2924 - val_mse: 0.0808\n",
      "Epoch 8/30\n",
      "137/137 [==============================] - 3s 23ms/step - loss: 1.8390 - accuracy: 0.3272 - mse: 0.0778 - val_loss: 2.0178 - val_accuracy: 0.2456 - val_mse: 0.0820\n",
      "Epoch 9/30\n",
      "137/137 [==============================] - 3s 23ms/step - loss: 1.8174 - accuracy: 0.3382 - mse: 0.0772 - val_loss: 2.0159 - val_accuracy: 0.2749 - val_mse: 0.0820\n",
      "Epoch 10/30\n",
      "137/137 [==============================] - 3s 23ms/step - loss: 1.7946 - accuracy: 0.3441 - mse: 0.0766 - val_loss: 1.9507 - val_accuracy: 0.2924 - val_mse: 0.0799\n",
      "Epoch 11/30\n",
      "137/137 [==============================] - 3s 23ms/step - loss: 1.7753 - accuracy: 0.3558 - mse: 0.0761 - val_loss: 2.0165 - val_accuracy: 0.2632 - val_mse: 0.0828\n",
      "Epoch 12/30\n",
      "137/137 [==============================] - 3s 23ms/step - loss: 1.7442 - accuracy: 0.3609 - mse: 0.0751 - val_loss: 1.9392 - val_accuracy: 0.3129 - val_mse: 0.0798\n",
      "Epoch 13/30\n",
      "137/137 [==============================] - 3s 23ms/step - loss: 1.7056 - accuracy: 0.4019 - mse: 0.0737 - val_loss: 1.9846 - val_accuracy: 0.3216 - val_mse: 0.0807\n",
      "Epoch 14/30\n",
      "137/137 [==============================] - 3s 22ms/step - loss: 1.7019 - accuracy: 0.3873 - mse: 0.0737 - val_loss: 1.9936 - val_accuracy: 0.2778 - val_mse: 0.0818\n",
      "Epoch 15/30\n",
      "137/137 [==============================] - 3s 22ms/step - loss: 1.6661 - accuracy: 0.3946 - mse: 0.0725 - val_loss: 2.0294 - val_accuracy: 0.2982 - val_mse: 0.0818\n",
      "Epoch 16/30\n",
      "137/137 [==============================] - 3s 23ms/step - loss: 1.6433 - accuracy: 0.4092 - mse: 0.0717 - val_loss: 2.0025 - val_accuracy: 0.2924 - val_mse: 0.0814\n",
      "Epoch 17/30\n",
      "137/137 [==============================] - 3s 23ms/step - loss: 1.6082 - accuracy: 0.4283 - mse: 0.0709 - val_loss: 1.9719 - val_accuracy: 0.2895 - val_mse: 0.0811\n",
      "Epoch 18/30\n",
      "137/137 [==============================] - 3s 23ms/step - loss: 1.5905 - accuracy: 0.4239 - mse: 0.0704 - val_loss: 2.0350 - val_accuracy: 0.3012 - val_mse: 0.0817\n",
      "Epoch 19/30\n",
      "137/137 [==============================] - 3s 23ms/step - loss: 1.5592 - accuracy: 0.4400 - mse: 0.0692 - val_loss: 2.1490 - val_accuracy: 0.2632 - val_mse: 0.0869\n",
      "Epoch 20/30\n",
      "137/137 [==============================] - 3s 23ms/step - loss: 1.5442 - accuracy: 0.4510 - mse: 0.0685 - val_loss: 2.0225 - val_accuracy: 0.3333 - val_mse: 0.0821\n",
      "Epoch 21/30\n",
      "137/137 [==============================] - 3s 23ms/step - loss: 1.5133 - accuracy: 0.4510 - mse: 0.0678 - val_loss: 2.0423 - val_accuracy: 0.3187 - val_mse: 0.0816\n",
      "Epoch 22/30\n",
      "137/137 [==============================] - 3s 23ms/step - loss: 1.4770 - accuracy: 0.4568 - mse: 0.0665 - val_loss: 1.9934 - val_accuracy: 0.3392 - val_mse: 0.0809\n",
      "Epoch 23/30\n",
      "137/137 [==============================] - 3s 23ms/step - loss: 1.4641 - accuracy: 0.4758 - mse: 0.0663 - val_loss: 2.0437 - val_accuracy: 0.3304 - val_mse: 0.0817\n",
      "Epoch 24/30\n",
      "137/137 [==============================] - 3s 23ms/step - loss: 1.4300 - accuracy: 0.4817 - mse: 0.0645 - val_loss: 2.1453 - val_accuracy: 0.2895 - val_mse: 0.0848\n",
      "Epoch 25/30\n",
      "137/137 [==============================] - 3s 23ms/step - loss: 1.4080 - accuracy: 0.4919 - mse: 0.0642 - val_loss: 2.1211 - val_accuracy: 0.3421 - val_mse: 0.0832\n",
      "Epoch 26/30\n",
      "137/137 [==============================] - 3s 23ms/step - loss: 1.3873 - accuracy: 0.4941 - mse: 0.0631 - val_loss: 2.0437 - val_accuracy: 0.3363 - val_mse: 0.0815\n",
      "Epoch 27/30\n",
      "137/137 [==============================] - 3s 23ms/step - loss: 1.3567 - accuracy: 0.5117 - mse: 0.0619 - val_loss: 2.3232 - val_accuracy: 0.2778 - val_mse: 0.0888\n",
      "Epoch 28/30\n",
      "137/137 [==============================] - 3s 23ms/step - loss: 1.3290 - accuracy: 0.5220 - mse: 0.0610 - val_loss: 2.0960 - val_accuracy: 0.3304 - val_mse: 0.0832\n",
      "Epoch 29/30\n",
      "137/137 [==============================] - 3s 23ms/step - loss: 1.3108 - accuracy: 0.5242 - mse: 0.0602 - val_loss: 2.0916 - val_accuracy: 0.3333 - val_mse: 0.0823\n",
      "Epoch 30/30\n",
      "137/137 [==============================] - 3s 23ms/step - loss: 1.2642 - accuracy: 0.5425 - mse: 0.0585 - val_loss: 2.4037 - val_accuracy: 0.2895 - val_mse: 0.0899\n"
     ]
    }
   ],
   "source": [
    "history = model.fit(X_train, \n",
    "                    y_train, \n",
    "                    validation_data = (X_valid, y_valid),\n",
    "                    validation_split = 0.2,\n",
    "                    batch_size = X_train.shape[0]//128,\n",
    "                    epochs = 30,\n",
    "                    shuffle = True)\n"
   ]
  },
  {
   "cell_type": "code",
   "execution_count": 53,
   "metadata": {},
   "outputs": [
    {
     "name": "stdout",
     "output_type": "stream",
     "text": [
      "14/14 [==============================] - 0s 12ms/step - loss: 2.4179 - accuracy: 0.2593 - mse: 0.0915\n",
      "14/14 [==============================] - 0s 6ms/step\n",
      "Val Accuracy: 0.34210526943206787 Accuracy: 0.5424597263336182\n",
      "Test Accuracy: 0.25934579968452454\n"
     ]
    },
    {
     "data": {
      "image/png": "[encoded data removed]",
      "text/plain": [
       "<Figure size 640x480 with 1 Axes>"
      ]
     },
     "metadata": {},
     "output_type": "display_data"
    }
   ],
   "source": [
    "history_obj = history.history \n",
    "# test_acc = model.evaluate(X_test, y_test)[1]\n",
    "\n",
    "test_acc = model.evaluate(X_test, y_test)[1]\n",
    "test_predictions = model.predict(X_test)\n",
    "\n",
    "plt.figure()\n",
    "plt.plot(history_obj[\"val_accuracy\"], label=\"val acc\")\n",
    "plt.plot(history_obj[\"accuracy\"], label=\"acc\")\n",
    "plt.legend()\n",
    "print(\"Val Accuracy:\" , max(history_obj[\"val_accuracy\"]), \"Accuracy:\", max(history_obj[\"accuracy\"]))\n",
    "print(\"Test Accuracy:\", test_acc)\n",
    "plt.show()"
   ]
  },
  {
   "cell_type": "code",
   "execution_count": 35,
   "metadata": {},
   "outputs": [
    {
     "data": {
      "text/plain": [
       "array([5, 8, 6, 7, 1, 5, 7, 1, 3, 0, 1, 7, 7, 9, 4, 9, 4, 8, 4, 0, 7, 2,\n",
       "       7, 9, 7, 5, 9, 1, 1, 8, 1, 4, 4, 4, 0, 1, 8, 7, 9, 6, 7, 7, 7, 9,\n",
       "       4, 0, 4, 1, 5, 0, 3, 4, 9, 7, 0, 6, 8, 0, 6, 2, 1, 0, 4, 7, 7, 3,\n",
       "       7, 8, 1, 9, 4, 7, 4, 7, 1, 3, 4, 6, 0, 0, 1, 4, 0, 3, 7, 6, 4, 6,\n",
       "       6, 0, 9, 1, 2, 7, 4, 5, 7, 9, 4, 3, 1, 8, 6, 6, 3, 1, 2],\n",
       "      dtype=int64)"
      ]
     },
     "execution_count": 35,
     "metadata": {},
     "output_type": "execute_result"
    }
   ],
   "source": [
    "np.argmax(test_predictions, axis=1)"
   ]
  },
  {
   "cell_type": "code",
   "execution_count": 36,
   "metadata": {},
   "outputs": [
    {
     "data": {
      "text/plain": [
       "array([2, 4, 4, 7, 9, 9, 7, 1, 3, 8, 1, 3, 6, 5, 3, 5, 3, 3, 1, 0, 7, 4,\n",
       "       7, 2, 1, 3, 6, 7, 1, 6, 7, 6, 8, 9, 1, 6, 4, 9, 7, 6, 6, 1, 9, 9,\n",
       "       4, 5, 4, 0, 6, 9, 3, 3, 6, 7, 8, 4, 2, 4, 7, 8, 1, 0, 5, 3, 5, 3,\n",
       "       7, 3, 8, 7, 0, 7, 6, 7, 0, 9, 8, 5, 5, 2, 7, 0, 2, 0, 0, 3, 3, 9,\n",
       "       4, 1, 5, 9, 6, 6, 8, 5, 1, 7, 4, 3, 9, 9, 7, 1, 8, 0, 6],\n",
       "      dtype=int64)"
      ]
     },
     "execution_count": 36,
     "metadata": {},
     "output_type": "execute_result"
    }
   ],
   "source": [
    "np.argmax(y_test, axis=1)"
   ]
  },
  {
   "cell_type": "code",
   "execution_count": 37,
   "metadata": {},
   "outputs": [],
   "source": [
    "# Minimum Reproducible Variants Models\n",
    "\n",
    "\n",
    "# Model 1\n",
    "# Le Net 5 Variant\n"
   ]
  },
  {
   "cell_type": "code",
   "execution_count": 38,
   "metadata": {},
   "outputs": [],
   "source": [
    "# Model 2\n",
    "# Mobile Net Variant \n",
    "# https://towardsdatascience.com/building-mobilenet-from-scratch-using-tensorflow-ad009c5dd42c"
   ]
  },
  {
   "cell_type": "code",
   "execution_count": 39,
   "metadata": {},
   "outputs": [],
   "source": [
    "# Model 3\n",
    "# Squeeze Net Variant\n",
    "# https://medium.com/@sumeetbadgujar/squeezenet-implementation-in-tensorflow-7949d795e84e\n"
   ]
  },
  {
   "cell_type": "code",
   "execution_count": 40,
   "metadata": {},
   "outputs": [],
   "source": [
    "# Model 4\n",
    "# Shuffle Net Variant\n",
    "# https://medium.com/analytics-vidhya/creating-shufflenet-in-tensorflow-f59123bd555b\n"
   ]
  },
  {
   "cell_type": "code",
   "execution_count": 41,
   "metadata": {},
   "outputs": [],
   "source": [
    "# Model 6\n",
    "# ResNet Variant\n",
    "# https://www.analyticsvidhya.com/blog/2021/08/how-to-code-your-resnet-from-scratch-in-tensorflow/\n"
   ]
  },
  {
   "cell_type": "code",
   "execution_count": 42,
   "metadata": {},
   "outputs": [],
   "source": [
    "# Model 7\n",
    "# Inception Variant\n",
    "# https://www.analyticsvidhya.com/blog/2018/10/understanding-inception-network-from-scratch/\n"
   ]
  },
  {
   "cell_type": "code",
   "execution_count": 43,
   "metadata": {},
   "outputs": [],
   "source": [
    "\n",
    "# Model 5\n",
    "# DenseNet \n",
    "# https://towardsdatascience.com/complete-architectural-details-of-all-efficientnet-models-5fd5b736142\n",
    "#   \n",
    "# Tensorflow applications \n"
   ]
  },
  {
   "cell_type": "code",
   "execution_count": 44,
   "metadata": {},
   "outputs": [],
   "source": [
    "\n",
    "\n",
    "\n",
    "\n",
    "# Model 8\n",
    "# VGG Variant\n",
    "# https://towardsdatascience.com/creating-vgg-from-scratch-using-tensorflow-a998a5640155"
   ]
  }
 ],
 "metadata": {
  "kernelspec": {
   "display_name": "Python 3",
   "language": "python",
   "name": "python3"
  },
  "language_info": {
   "codemirror_mode": {
    "name": "ipython",
    "version": 3
   },
   "file_extension": ".py",
   "mimetype": "text/x-python",
   "name": "python",
   "nbconvert_exporter": "python",
   "pygments_lexer": "ipython3",
   "version": "3.10.0"
  }
 },
 "nbformat": 4,
 "nbformat_minor": 2
}
